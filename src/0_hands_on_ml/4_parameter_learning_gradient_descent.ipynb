{
 "cells": [
  {
   "cell_type": "markdown",
   "metadata": {
    "pycharm": {
     "name": "#%% md\n"
    }
   },
   "source": [
    "So far, we have seen how to define the hypothesis function and measure how well it fits the given data through the cost function.\n",
    "\n",
    "From now on, we will study how to find the **optimal parameter** of the hypothesis function.\n",
    "\n",
    "**Gradient descent** is one of the methods that can be used to **minimize the cost function**, and is a general method used for various optimizations other than the cost function. Gradient descent basically takes the following strategy.\n",
    "\n",
    "In other words **gradient descent algorithm** is an **optimization algorithm**. We start with a random point on the function and move in the negative direction of the gradient of the function to reach the local/global minimum.\n",
    "\n",
    "<img src=\"../img/gradient_descent/gradient_descent_outline.png\" width=\"650\"/>"
   ],
   "outputs": []
  },
  {
   "cell_type": "markdown",
   "source": [
    "## Before we move forward, let's review basic calculus concepts with derivatives\n"
   ],
   "metadata": {
    "collapsed": false
   }
  },
  {
   "cell_type": "markdown",
   "source": [
    "#### Rate of Change (ROC) visualization\n",
    "The rate of change (ROC) is the speed at which a variable changes over a specific period of time.\n",
    "\n",
    "A rate of change is a rate that describes how one quantity changes in relation to another quantity. If x is the independent variable and y is the dependent variable.\n",
    "\n",
    "\n",
    "**Rate of change** can be **positive**, **negative** or **zero**\n",
    "<img src=\"../img/gradient_descent/ROC_types.png\" width=\"500\"/>\n",
    "\n",
    "\n",
    "Example:\n",
    "\n",
    "<img src=\"../img/gradient_descent/table_to_find_the_rate_of_change.png\" width=\"450\"/>\n",
    "\n",
    "The rate of change is $\\frac{40}{1} $ or 40 . This means a vehicle is traveling at a rate of 40 miles per hour.\n",
    "In other words - Rate of change = $\\frac{Change \\ in \\ Y}{Change \\ in \\ X}$\n",
    "\n",
    "<img src=\"../img/gradient_descent/rateofchange_details.png\" width=\"450\"/>\n",
    "\n"
   ],
   "metadata": {
    "collapsed": false
   }
  },
  {
   "cell_type": "code",
   "execution_count": 5,
   "outputs": [
    {
     "name": "stdout",
     "output_type": "stream",
     "text": [
      "Rate of change custom =  40.0\n",
      "Rate of change numpy =  [40. 40.]\n"
     ]
    }
   ],
   "source": [
    "import pandas as pd\n",
    "from numpy import diff\n",
    "\n",
    "\n",
    "def get_previous_element_if_exists(arr):\n",
    "    if len(arr) > 1:\n",
    "        return arr[-2]\n",
    "    else:\n",
    "        return 0\n",
    "\n",
    "\n",
    "def rate_of_change(x: list, y: list):\n",
    "    \"\"\"\n",
    "    :param y: dependent var\n",
    "    :param x: independent var\n",
    "    :return: rate of change\n",
    "    \"\"\"\n",
    "    change_in_x = x[-1] - get_previous_element_if_exists(x)\n",
    "    change_in_y = y[-1] - get_previous_element_if_exists(y)\n",
    "\n",
    "    return change_in_y / change_in_x\n",
    "\n",
    "\n",
    "df = pd.DataFrame(\n",
    "    {'distance': [80, 160, 240],\n",
    "     'time': [2, 4, 6]\n",
    "     })\n",
    "\n",
    "r1 = rate_of_change(df['time'][0:2].values, df['distance'][0:2].values)\n",
    "print(\"Rate of change custom = \", r1)\n",
    "\n",
    "dydx = diff(df['distance'].values) / diff(df['time'].values)\n",
    "print(\"Rate of change numpy = \", dydx)"
   ],
   "metadata": {
    "collapsed": false,
    "pycharm": {
     "name": "#%%\n"
    }
   }
  },
  {
   "cell_type": "markdown",
   "source": [
    "#### Average rate of change\n",
    "\n",
    "The ***average rate of change*** finds how fast a function is changing with respect to something else changing.\n",
    "It is simply the process of calculating the rate at which the ***output (y-values)*** changes compared to its ***input (x-values).***\n",
    "<br>\n",
    "<img src=\"../img/gradient_descent/rate_of_change_formula.png\" width=\"400\"/>\n",
    "\n",
    "To find the average rate of change, we divide the change in y (output) by the change in x (input). And visually, all we are doing is calculating the slope of the secant line passing between two points.\n",
    "<br>\n",
    "<img src=\"../img/gradient_descent/calc_slope_example.png\" width=\"400\"/>\n",
    "\n",
    "Example:\n",
    "<br>\n",
    "<img src=\"../img/gradient_descent/example_rate_of_change.png\" width=\"500\"/>\n",
    "\n",
    "All you have to do is calculate the slope to find the average rate of change!\n",
    "<br>\n",
    "<img src=\"../img/gradient_descent/find_slope.png\" width=\"500\"/>"
   ],
   "metadata": {
    "collapsed": false
   }
  },
  {
   "cell_type": "markdown",
   "source": [
    "#### Average Rate Of Change Vs Instantaneous Rate Of Change\n",
    "\n",
    "While both are used to find the slope, the average rate of change calculates the slope of the ***secant line*** using the slope formula from algebra. The instantaneous rate of change calculates the slope of the ***tangent line*** using ***derivatives***.\n",
    "\n",
    "<br>\n",
    "<img src=\"../img/gradient_descent/tangent_and_secand.png\" width=\"500\"/>\n",
    "\n",
    "Using the graph above, we can see that the green ***secant line*** represents the average rate of change between points P and Q, and the orange **tangent line** designates the instantaneous rate of change at point P.\n",
    "\n"
   ],
   "metadata": {
    "collapsed": false
   }
  },
  {
   "cell_type": "markdown",
   "source": [
    "### Derivatives:\n",
    "\n",
    "Instantaneous rate of change is the main goal of derivative.\n",
    "Instead of thinking of differences (\"How far to the next point?\") we can compare rates (\"How fast are you moving through this continuum?\"). Derivative, in mathematics, the rate of change of a function with respect to a variable. Geometrically, the derivative of a function can be interpreted as the slope of the graph of the function or, more precisely, as the slope of the ***TANGENT*** line at a point.\n",
    "\n",
    "the formula for the slope is (y1 − y0)/(x1 − x0). Another way to express this formula is [f(x0 + h) − f(x0)]/h, if h is used for x1 − x0 and f(x) for y.\n",
    "\n",
    "Curves do not have a constant slope. To find the slope at a desired point, the choice of the second point needed to calculate the ratio represents a difficulty because, in general, the ratio will represent only an average slope between the points\n",
    "\n",
    "We can find an average slope between two points:\n",
    "\n",
    "<img src=\"../img/gradient_descent/derevative_details.png\" width=\"500\"/>\n",
    "\n",
    "1. Start with some system to study: **f(x)**\n",
    "2. Change by the smallest amount possible: **(dx)**\n",
    "3. Get the before-and-after difference: **f(x + dx) + f(x)**\n",
    "4. We don't know exactly how small **dx** is, and we don't care: get the rate of motion\n",
    "\n",
    "ML uses derivatives in optimization problems. Optimization algorithms like **gradient descent** use derivates to decide whether to increase or decrease the weights to **increase or decrease** any objective function."
   ],
   "metadata": {
    "collapsed": false
   }
  },
  {
   "cell_type": "markdown",
   "source": [
    "### Gradient descent:\n",
    "\n",
    "***Gradient Descent*** is an optimisation algorithm which helps you find the optimal weights for your model.\n",
    "***Gradient Descent*** is an iterative algorithm that is used to minimize a ***cost function*** by finding the optimal parameters.\n",
    "\n",
    "1. Minimises the cost function\n",
    "2. Helps find the optimal weights of a learning model for which the cost function is highly minimized.\n",
    "3. Cost function can be defined as the difference between the actual output and the predicted output.\n",
    "4. The smaller the cost function is, the closer the predicted output from your model is to the actual output.\n",
    "\n",
    "Starting at the top of the mountain, we take our first step downhill in the direction specified by the negative gradient. Next we recalculate the negative gradient (passing in the coordinates of our new point) and take another step in the direction it specifies. We continue this process iteratively until we get to the bottom of our graph, or to a point where we can no longer move downhill–a local minimum.\n",
    "<br>\n",
    "<img src=\"../img/gradient_descent/gradient_descent.png\" width=\"400\"/>\n",
    "\n",
    "### Learning rate:\n",
    "The size of these steps is called the learning rate. With a high learning rate we can cover more ground each step, but we risk overshooting 'miss' the lowest point since the slope of the hill is constantly changing.\n",
    "With a very low learning rate, we can confidently move in the direction of the negative gradient since we are recalculating it so frequently. A low learning rate will take us a very long time to get to the bottom.\n",
    "\n",
    "Although gradient descent sometimes gets stuck in a ***local minimum*** or a ***saddle point*** instead of finding the ***global minimum***\n",
    "\"In mathematics, a saddle point or minimax point[1] is a point on the surface of the graph of a function where the slopes (derivatives) in orthogonal directions are all zero (a critical point), but which is not a local extremum of the function.\"\n",
    "\n",
    " machine learning methods often apply it internally to optimize model parameters. For example, neural networks find weights and biases with gradient descent.\n",
    "\n",
    "### Cost Function or Loss function is the goal of optimization:\n",
    "The cost function, or loss function, is the function to be minimized (or maximized) by varying the decision variables.\n",
    "They tend to minimize the difference between actual and predicted outputs by adjusting the model parameters\n",
    "\n",
    "In a regression problem, you typically have the vectors of input variables X = (x1, …, xr) and the actual outputs 'y'. You want to find a model that maps 'x' to a predicted response F(x) so that F(x) is as close as possible to 'y'.\n",
    "\n",
    "Your goal is to minimize the difference between the prediction F(x) and the actual data y. This difference is called the residual.\n",
    "\n",
    "In this type of problem, you want to minimize SSR or MSE:\n",
    "Both SSR and MSE use the square of the difference between the ***actual*** and ***predicted*** outputs.\n",
    "\n",
    "\n",
    "***Sum of squared residuals (SSR):***\n",
    "\n",
    "\n",
    "***Mean squared error (MSE = SSR / n):***"
   ],
   "metadata": {
    "collapsed": false
   }
  },
  {
   "cell_type": "markdown",
   "source": [
    "### Step-by-step example:\n",
    "There are two parameters in our cost function we can control: 'm' (weight) and 'b' (bias). Since we need to consider the impact each one has on the final prediction, we need to use partial derivatives. We calculate the partial derivatives of the cost function with respect to each parameter and store the results in a ***gradient***.\n",
    "<br>\n",
    "\n",
    "The gradient can be calculated as:\n",
    "<img src=\"../img/gradient_descent/gradient_can_be_calculated_as.png\" width=\"500\"/>\n",
    "\n",
    "To solve for the gradient, we iterate through our data points using our new 'm' and 'b' values and compute the partial derivatives. This new gradient tells us the slope of our cost function at our current position (current parameter values) and the direction we should move to update our parameters. The size of our update is controlled by the learning rate.\n",
    "\n",
    "TODO:\n",
    "https://ruder.io/optimizing-gradient-descent/\n",
    "https://ml-cheatsheet.readthedocs.io/en/latest/logistic_regression.html#sigmoid-activation\n"
   ],
   "metadata": {
    "collapsed": false
   }
  },
  {
   "cell_type": "code",
   "execution_count": 3,
   "outputs": [
    {
     "data": {
      "text/plain": "6.050060671375367"
     },
     "execution_count": 3,
     "metadata": {},
     "output_type": "execute_result"
    }
   ],
   "source": [
    "#Implementation of Basic Gradient Descent\n",
    "def gradient_descent(gradient, start, learn_rate, n_iter):\n",
    "    '''\n",
    "    :param gradient: is the function or any Python callable object that takes a vector and returns the gradient of the function you’re trying to minimize.\n",
    "    :param start: is the point where the algorithm starts its search, given as a sequence (tuple, list, NumPy array, and so on) or scalar (in the case of a one-dimensional problem).\n",
    "    :param learn_rate: is the learning rate that controls the magnitude of the vector update.\n",
    "    :param n_iter:  is the number of iterations.\n",
    "    :return:\n",
    "    '''\n",
    "\n",
    "    '''\n",
    "    implementation of the algorithm that starts with an arbitrary point, start, iteratively moves it toward the minimum, and returns a point that is hopefully at or near the minimum\n",
    "\n",
    "    Gradient descent, a first-order iterative optimization algorithm for finding the minimum of a function\n",
    "    '''\n",
    "\n",
    "    vector = start\n",
    "    for _ in range(n_iter):\n",
    "        diff = -learn_rate * gradient(vector)\n",
    "        vector += diff\n",
    "    return vector\n",
    "\n",
    "\n",
    "'''\n",
    "Test your gradient descent implementation\n",
    "lambda v: 2 * v to provide the gradient of 𝑣². You start from the value 10.0 and set the learning rate to 0.2. You get a result that’s very close to zero, which is the correct minimum.\n",
    "'''\n",
    "function_1 = lambda v: 2 * v\n",
    "gradient_descent(gradient=function_1, start=10.0, learn_rate=0.005, n_iter=50)"
   ],
   "metadata": {
    "collapsed": false,
    "pycharm": {
     "name": "#%%\n"
    }
   }
  },
  {
   "cell_type": "code",
   "execution_count": 4,
   "outputs": [
    {
     "name": "stdout",
     "output_type": "stream",
     "text": [
      "Iteration 1: Cost 4352.088931274409, Weight \t\t0.7593291142562117, Bias 0.02288558130709\n",
      "Iteration 2: Cost 1114.8561474350017, Weight \t\t1.081602958862324, Bias 0.02918014748569513\n",
      "Iteration 3: Cost 341.42912086804455, Weight \t\t1.2391274084945083, Bias 0.03225308846928192\n",
      "Iteration 4: Cost 156.64495290904443, Weight \t\t1.3161239281746984, Bias 0.03375132986012604\n",
      "Iteration 5: Cost 112.49704004742098, Weight \t\t1.3537591652024805, Bias 0.034479873154934775\n",
      "Iteration 6: Cost 101.9493925395456, Weight \t\t1.3721549833978113, Bias 0.034832195392868505\n",
      "Iteration 7: Cost 99.4293893333546, Weight \t\t1.3811467575154601, Bias 0.03500062439068245\n",
      "Iteration 8: Cost 98.82731958262897, Weight \t\t1.3855419247507244, Bias 0.03507916814736111\n",
      "Iteration 9: Cost 98.68347500997261, Weight \t\t1.3876903144657764, Bias 0.035113776874486774\n",
      "Iteration 10: Cost 98.64910780902792, Weight \t\t1.3887405007983562, Bias 0.035126910596389935\n",
      "Iteration 11: Cost 98.64089651459352, Weight \t\t1.389253895811451, Bias 0.03512954755833985\n",
      "Iteration 12: Cost 98.63893428729509, Weight \t\t1.38950491235671, Bias 0.035127053821718185\n",
      "Iteration 13: Cost 98.63846506273883, Weight \t\t1.3896276808137857, Bias 0.035122052266051224\n",
      "Iteration 14: Cost 98.63835254057648, Weight \t\t1.38968776283053, Bias 0.03511582492978764\n",
      "Iteration 15: Cost 98.63832524036214, Weight \t\t1.3897172043139192, Bias 0.03510899846107016\n",
      "Iteration 16: Cost 98.63831830104695, Weight \t\t1.389731668997059, Bias 0.035101879159522745\n",
      "Iteration 17: Cost 98.63831622628217, Weight \t\t1.389738813163012, Bias 0.03509461674147458\n"
     ]
    },
    {
     "data": {
      "text/plain": "<Figure size 576x432 with 1 Axes>",
      "image/png": "[encoded data removed]"
     },
     "metadata": {
      "needs_background": "light"
     },
     "output_type": "display_data"
    },
    {
     "name": "stdout",
     "output_type": "stream",
     "text": [
      "Estimated Weight: 1.389738813163012\n",
      "Estimated Bias: 0.03509461674147458\n"
     ]
    },
    {
     "data": {
      "text/plain": "<Figure size 576x432 with 1 Axes>",
      "image/png": "[encoded data removed]"
     },
     "metadata": {
      "needs_background": "light"
     },
     "output_type": "display_data"
    }
   ],
   "source": [
    "# Importing Libraries\n",
    "import numpy as np\n",
    "from matplotlib import pyplot as plt\n",
    "import matplotlib.pyplot as plt\n",
    "\n",
    "\n",
    "def mean_squared_error(y_true, y_predicted):\n",
    "    # Calculating the loss or cost\n",
    "    cost = np.sum((y_true - y_predicted) ** 2) / len(y_true)\n",
    "    return cost\n",
    "\n",
    "\n",
    "# Gradient Descent Function\n",
    "# Here iterations, learning_rate, stopping_threshold\n",
    "# are hyperparameters that can be tuned\n",
    "def gradient_descent(x, y, iterations=1000, learning_rate=0.0001,\n",
    "                     stopping_threshold=1e-6):\n",
    "    # Initializing weight, bias, learning rate and iterations\n",
    "    current_weight = 0.1\n",
    "    current_bias = 0.01\n",
    "    iterations = iterations\n",
    "    learning_rate = learning_rate\n",
    "    n = float(len(x))\n",
    "\n",
    "    costs = []\n",
    "    weights = []\n",
    "    previous_cost = None\n",
    "\n",
    "    # Estimation of optimal parameters\n",
    "    for i in range(iterations):\n",
    "\n",
    "        # Making predictions\n",
    "        y_predicted = (current_weight * x) + current_bias\n",
    "\n",
    "        # Calculationg the current cost\n",
    "        current_cost = mean_squared_error(y, y_predicted)\n",
    "\n",
    "        # If the change in cost is less than or equal to\n",
    "        # stopping_threshold we stop the gradient descent\n",
    "        if previous_cost and abs(previous_cost - current_cost) <= stopping_threshold:\n",
    "            break\n",
    "\n",
    "        previous_cost = current_cost\n",
    "\n",
    "        costs.append(current_cost)\n",
    "        weights.append(current_weight)\n",
    "\n",
    "        # Calculating the gradients\n",
    "        weight_derivative = -(2 / n) * sum(x * (y - y_predicted))\n",
    "        bias_derivative = -(2 / n) * sum(y - y_predicted)\n",
    "\n",
    "        # Updating weights and bias\n",
    "        current_weight = current_weight - (learning_rate * weight_derivative)\n",
    "        current_bias = current_bias - (learning_rate * bias_derivative)\n",
    "\n",
    "        # Printing the parameters for each 1000th iteration\n",
    "        print(f\"Iteration {i + 1}: Cost {current_cost}, Weight \\\n",
    "\t\t{current_weight}, Bias {current_bias}\")\n",
    "\n",
    "    # Visualizing the weights and cost at for all iterations\n",
    "    plt.figure(figsize=(8, 6))\n",
    "    plt.plot(weights, costs)\n",
    "    plt.scatter(weights, costs, marker='o', color='red')\n",
    "    plt.title(\"Cost vs Weights\")\n",
    "    plt.ylabel(\"Cost\")\n",
    "    plt.xlabel(\"Weight\")\n",
    "    plt.show()\n",
    "\n",
    "    return current_weight, current_bias\n",
    "    # Data\n",
    "X = np.array([32.50234527, 53.42680403, 61.53035803, 47.47563963, 59.81320787,\n",
    "              55.14218841, 52.21179669, 39.29956669, 48.10504169, 52.55001444,\n",
    "              45.41973014, 54.35163488, 44.1640495, 58.16847072, 56.72720806,\n",
    "              48.95588857, 44.68719623, 60.29732685, 45.61864377, 38.81681754])\n",
    "Y = np.array([31.70700585, 68.77759598, 62.5623823, 71.54663223, 87.23092513,\n",
    "              78.21151827, 79.64197305, 59.17148932, 75.3312423, 71.30087989,\n",
    "              55.16567715, 82.47884676, 62.00892325, 75.39287043, 81.43619216,\n",
    "              60.72360244, 82.89250373, 97.37989686, 48.84715332, 56.87721319])\n",
    "\n",
    "# Estimating weight and bias using gradient descent\n",
    "estimated_weight, eatimated_bias = gradient_descent(X, Y, iterations=2000)\n",
    "print(f\"Estimated Weight: {estimated_weight}\\nEstimated Bias: {eatimated_bias}\")\n",
    "\n",
    "# Making predictions using estimated parameters\n",
    "Y_pred = estimated_weight * X + eatimated_bias\n",
    "\n",
    "# Plotting the regression line\n",
    "plt.figure(figsize=(8, 6))\n",
    "plt.scatter(X, Y, marker='o', color='red')\n",
    "plt.plot([min(X), max(X)], [min(Y_pred), max(Y_pred)], color='blue', markerfacecolor='red', markersize=10,\n",
    "         linestyle='dashed')\n",
    "plt.xlabel(\"X\")\n",
    "plt.ylabel(\"Y\")\n",
    "plt.show()\n"
   ],
   "metadata": {
    "collapsed": false,
    "pycharm": {
     "name": "#%%\n"
    }
   }
  },
  {
   "cell_type": "markdown",
   "source": [
    "#### Stochastic Gradient Descent Algorithms\n",
    "https://realpython.com/gradient-descent-algorithm-python/"
   ],
   "metadata": {
    "collapsed": false
   }
  },
  {
   "cell_type": "markdown",
   "source": [
    "### Gradient Descent in Keras and TensorFlow\n",
    "Stochastic gradient descent is widely used to train neural networks. The libraries for neural networks often have different variants of optimization algorithms based on stochastic gradient descent, such as:\n",
    "\n",
    "* Adam\n",
    "* Adagrad\n",
    "* Adadelta\n",
    "* RMSProp\n"
   ],
   "metadata": {
    "collapsed": false
   }
  },
  {
   "cell_type": "markdown",
   "source": [],
   "metadata": {
    "collapsed": false
   }
  },
  {
   "cell_type": "markdown",
   "source": [
    "#### Partial derivatives\n",
    "\n",
    "https://www.khanacademy.org/math/multivariable-calculus/multivariable-derivatives/partial-derivatives/v/partial-derivatives-introduction\n",
    "\n",
    "Gradient descent - math explanation\n",
    "https://youtu.be/jc2IthslyzM?t=129\n",
    "\n",
    "https://realpython.com/gradient-descent-algorithm-python/"
   ],
   "metadata": {
    "collapsed": false,
    "pycharm": {
     "name": "#%% md\n"
    }
   }
  }
 ],
 "metadata": {
  "kernelspec": {
   "display_name": "Python 3",
   "language": "python",
   "name": "python3"
  },
  "language_info": {
   "codemirror_mode": {
    "name": "ipython",
    "version": 3
   },
   "file_extension": ".py",
   "mimetype": "text/x-python",
   "name": "python",
   "nbconvert_exporter": "python",
   "pygments_lexer": "ipython3",
   "version": "3.8.5"
  }
 },
 "nbformat": 4,
 "nbformat_minor": 1
}