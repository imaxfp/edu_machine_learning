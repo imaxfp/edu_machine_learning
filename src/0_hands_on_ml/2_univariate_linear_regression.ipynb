{
 "cells": [
  {
   "cell_type": "markdown",
   "metadata": {
    "pycharm": {
     "name": "#%% md\n"
    }
   },
   "source": [
    "Assuming that there is a linear relationship between the size of the house and the price, it is a linear regression."
   ]
  },
  {
   "cell_type": "code",
   "execution_count": 24,
   "metadata": {
    "pycharm": {
     "name": "#%%\n"
    }
   },
   "outputs": [
    {
     "name": "stderr",
     "output_type": "stream",
     "text": [
      "2022-04-12 19:14:14.677 | INFO     | __main__:<module>:7 -    size  price\n",
      "0     1      1\n",
      "1     2      2\n",
      "2     3      3\n"
     ]
    }
   ],
   "source": [
    "import pandas as pd\n",
    "from loguru import logger\n",
    "\n",
    "data = {'size': [1, 2, 3],\n",
    "        'price': [1, 2, 3]}\n",
    "df = pd.DataFrame(data)\n",
    "logger.info(df)"
   ]
  },
  {
   "cell_type": "code",
   "metadata": {
    "pycharm": {
     "name": "#%%\n"
    }
   },
   "source": [
    "\n",
    "import seaborn as sns\n",
    "\n",
    "sns.set_theme(color_codes=True)\n",
    "sns.regplot(x=\"size\", y=\"price\", data=df);"
   ],
   "execution_count": 1,
   "outputs": [
    {
     "ename": "NameError",
     "evalue": "name 'df' is not defined",
     "output_type": "error",
     "traceback": [
      "\u001B[0;31m---------------------------------------------------------------------------\u001B[0m",
      "\u001B[0;31mNameError\u001B[0m                                 Traceback (most recent call last)",
      "\u001B[0;32m<ipython-input-1-a6c32bcad03a>\u001B[0m in \u001B[0;36m<module>\u001B[0;34m\u001B[0m\n\u001B[1;32m      2\u001B[0m \u001B[0;34m\u001B[0m\u001B[0m\n\u001B[1;32m      3\u001B[0m \u001B[0msns\u001B[0m\u001B[0;34m.\u001B[0m\u001B[0mset_theme\u001B[0m\u001B[0;34m(\u001B[0m\u001B[0mcolor_codes\u001B[0m\u001B[0;34m=\u001B[0m\u001B[0;32mTrue\u001B[0m\u001B[0;34m)\u001B[0m\u001B[0;34m\u001B[0m\u001B[0;34m\u001B[0m\u001B[0m\n\u001B[0;32m----> 4\u001B[0;31m \u001B[0msns\u001B[0m\u001B[0;34m.\u001B[0m\u001B[0mregplot\u001B[0m\u001B[0;34m(\u001B[0m\u001B[0mx\u001B[0m\u001B[0;34m=\u001B[0m\u001B[0;34m\"size\"\u001B[0m\u001B[0;34m,\u001B[0m \u001B[0my\u001B[0m\u001B[0;34m=\u001B[0m\u001B[0;34m\"price\"\u001B[0m\u001B[0;34m,\u001B[0m \u001B[0mdata\u001B[0m\u001B[0;34m=\u001B[0m\u001B[0mdf\u001B[0m\u001B[0;34m)\u001B[0m\u001B[0;34m;\u001B[0m\u001B[0;34m\u001B[0m\u001B[0;34m\u001B[0m\u001B[0m\n\u001B[0m",
      "\u001B[0;31mNameError\u001B[0m: name 'df' is not defined"
     ]
    }
   ]
  },
  {
   "cell_type": "markdown",
   "source": [
    "<img src=\"../img/univariate/univariate_main_algorithm.png\" width=\"750\"/>"
   ],
   "metadata": {
    "collapsed": false,
    "pycharm": {
     "name": "#%% md\n"
    }
   }
  },
  {
   "cell_type": "markdown",
   "source": [
    "### The Hypothesis Function\n",
    "Hypothesis is a function representing the relationship between input (feature) and output (target).\n",
    "“How to express the relationship between variables and outputs with these and these functions? It is believed that they began to call it a hypothesis because it puts up a kind of hypothesis. Hypothesis can take the form of any function, but the following linear functions are often used.\n"
   ],
   "metadata": {
    "collapsed": false,
    "pycharm": {
     "name": "#%% md\n"
    }
   }
  },
  {
   "cell_type": "markdown",
   "source": [
    "<img src=\"../img/univariate/univariate_main_formulas.png\" width=\"750\"/>\n",
    "<br>\n",
    "<img src=\"../img/univariate/univariate_lr_hypotesis_visual.png\" width=\"550\"/>"
   ],
   "metadata": {
    "collapsed": false
   }
  },
  {
   "cell_type": "markdown",
   "source": [
    "### Cost function detailed explained\n",
    "\n",
    "<img src=\"../img/univariate/univariate_lr_cost_function.png\" width=\"750\"/>"
   ],
   "metadata": {
    "collapsed": false,
    "pycharm": {
     "name": "#%% md\n"
    }
   }
  },
  {
   "cell_type": "code",
   "execution_count": 26,
   "outputs": [
    {
     "name": "stderr",
     "output_type": "stream",
     "text": [
      "2022-04-12 19:14:22.158 | INFO     | __main__:cost_function:15 - For theta1 = 1.00, cost function is = 0.00, hypothesis = [0, 0, 0]\n",
      "2022-04-12 19:14:22.159 | INFO     | __main__:cost_function:15 - For theta1 = 0.50, cost function is = 0.58, hypothesis = [0.25, 1.0, 2.25]\n",
      "2022-04-12 19:14:22.160 | INFO     | __main__:cost_function:15 - For theta1 = 0.00, cost function is = 2.33, hypothesis = [1, 4, 9]\n"
     ]
    }
   ],
   "source": [
    "data = {'size': [1, 2, 3],\n",
    "        'price': [1, 2, 3]}\n",
    "df = pd.DataFrame(data)\n",
    "\n",
    "\n",
    "#hypothesis implementation\n",
    "def hypothesis(theta0, theta1, x):\n",
    "    return theta0 + theta1 * x\n",
    "\n",
    "\n",
    "#Cost function formula implementation\n",
    "def cost_function(theta0, theta1, df):\n",
    "    hypo_results = list(map(lambda x, y: (hypothesis(theta0, theta1, x) - y) ** 2, df[\"size\"], df[\"price\"]))\n",
    "    cost_function_res = 1 / (2 * len(df[\"price\"])) * sum(hypo_results)\n",
    "    logger.info(\n",
    "        \"For theta1 = %.2f, cost function is = %.2f, hypothesis = %s\" % (theta1, cost_function_res, hypo_results))\n",
    "    return cost_function_res\n",
    "\n",
    "\n",
    "thetas1 = [1, 0.5, 0]\n",
    "\n",
    "for t1 in thetas1:\n",
    "    cost_function(0, t1, df)\n"
   ],
   "metadata": {
    "collapsed": false,
    "pycharm": {
     "name": "#%%\n"
    }
   }
  },
  {
   "cell_type": "markdown",
   "source": [
    "## How to use matrices multiplication for the **linear regression** implementation"
   ],
   "metadata": {
    "collapsed": false
   }
  },
  {
   "cell_type": "code",
   "execution_count": 27,
   "outputs": [
    {
     "name": "stdout",
     "output_type": "stream",
     "text": [
      "house size matrix representation\n",
      " [[ 1 47]\n",
      " [ 1 53]\n",
      " [ 1 67]\n",
      " [ 1 90]]\n",
      "theta0 and theta1 vector\n",
      " [[55. ]\n",
      " [ 0.6]]\n",
      "1 * 55.0\n",
      "47 * 0.6\n",
      "1 * 55.0\n",
      "53 * 0.6\n",
      "1 * 55.0\n",
      "67 * 0.6\n",
      "1 * 55.0\n",
      "90 * 0.6\n",
      "prices predicted with vector  = [ 83.2  86.8  95.2 109. ]\n",
      "real prices = [84, 87, 99, 115]\n",
      "cost function results based on  matrix implementation = 6.39000000000001\n"
     ]
    }
   ],
   "source": [
    "import pandas as pd\n",
    "import numpy as np\n",
    "\n",
    "'''\n",
    "https://numpy.org/doc/1.21/\n",
    "https://numpy.org/doc/stable/reference/generated/numpy.matrix.html\n",
    "'''\n",
    "#appartment square meters and price\n",
    "df = pd.DataFrame({'size': [47, 53, 67, 90],\n",
    "                   'price': [84, 87, 99, 115]})\n",
    "#prepare matrix with apartment size\n",
    "house_size_matrix = np.array(list(map(lambda s: [1, s], df['size'])))\n",
    "print(\"house size matrix representation\\n\", house_size_matrix)\n",
    "\n",
    "#prepare theta0 and theta1 vectors\n",
    "thetas_vector1 = np.array([[55],\n",
    "                           [0.6]])\n",
    "print(\"theta0 and theta1 vector\\n\", thetas_vector1)\n",
    "\n",
    "#provide prediction results for the prices with hypothesis function by matrix and vector multiplication\n",
    "predictions_by_hypothesis = np.zeros(len(df['size']))\n",
    "for i in range(len(df['size'])):\n",
    "    for j in range(2):\n",
    "        print(house_size_matrix[i][j], \"*\", thetas_vector1[j][0])\n",
    "        predictions_by_hypothesis[i] += thetas_vector1[j][0] * house_size_matrix[i][j]\n",
    "\n",
    "print(\"prices predicted with vector  =\", predictions_by_hypothesis)\n",
    "print(\"real prices =\", list(df[\"price\"]))\n",
    "\n",
    "# Calculate cost function for predictions by hypothesis\n",
    "hypo_results = list(map(lambda x, y: (x - y) ** 2, predictions_by_hypothesis, df[\"price\"]))\n",
    "cost_function_res = 1 / (2 * len(df[\"price\"])) * sum(hypo_results)\n",
    "print(\"cost function results based on  matrix implementation =\", cost_function_res)"
   ],
   "metadata": {
    "collapsed": false,
    "pycharm": {
     "name": "#%%\n"
    }
   }
  },
  {
   "cell_type": "code",
   "execution_count": 28,
   "outputs": [
    {
     "name": "stderr",
     "output_type": "stream",
     "text": [
      "2022-04-12 19:14:25.462 | INFO     | __main__:cost_function:15 - For theta1 = 0.60, cost function is = 6.39, hypothesis = [array([0.64]), array([0.04]), array([14.44]), array([36.])]\n"
     ]
    },
    {
     "name": "stdout",
     "output_type": "stream",
     "text": [
      "cost function results based on function implementation = [6.39]\n"
     ]
    }
   ],
   "source": [
    "# Compare results with previous cost function implementation\n",
    "cost_function_res_above = cost_function(thetas_vector1[0], thetas_vector1[1], df)\n",
    "print(\"cost function results based on function implementation =\", cost_function_res_above)"
   ],
   "metadata": {
    "collapsed": false,
    "pycharm": {
     "name": "#%%\n"
    }
   }
  },
  {
   "cell_type": "code",
   "execution_count": 29,
   "outputs": [
    {
     "data": {
      "text/plain": "<AxesSubplot:xlabel='size', ylabel='price'>"
     },
     "execution_count": 29,
     "metadata": {},
     "output_type": "execute_result"
    },
    {
     "data": {
      "text/plain": "<Figure size 432x288 with 1 Axes>",
      "image/png": "[encoded data removed]"
     },
     "metadata": {},
     "output_type": "display_data"
    }
   ],
   "source": [
    "import seaborn as sns\n",
    "\n",
    "df_predicted = pd.DataFrame({'size': df['size'],\n",
    "                             'price': predictions_by_hypothesis})\n",
    "\n",
    "sns.regplot(x=\"size\", y=\"price\", color=\"blue\", data=df)\n",
    "sns.regplot(x=\"size\", y=\"price\", color=\"red\", data=df_predicted)"
   ],
   "metadata": {
    "collapsed": false,
    "pycharm": {
     "name": "#%%\n"
    }
   }
  },
  {
   "cell_type": "code",
   "execution_count": 30,
   "outputs": [
    {
     "name": "stdout",
     "output_type": "stream",
     "text": [
      "[48.96117835] [0.73601279]\n",
      "0.997128716568367\n"
     ]
    }
   ],
   "source": [
    "# Sanity Check: do we get the same results as our gradient descent?\n",
    "from sklearn.linear_model import LinearRegression\n",
    "\n",
    "linr = LinearRegression()\n",
    "linr.fit(df['size'].values.reshape(-1, 1), df['price'].values.reshape(-1, 1))\n",
    "print(linr.intercept_, linr.coef_[0])\n",
    "print(linr.score(df['size'].values.reshape(-1, 1), df['price'].values.reshape(-1, 1)))"
   ],
   "metadata": {
    "collapsed": false,
    "pycharm": {
     "name": "#%%\n"
    }
   }
  }
 ],
 "metadata": {
  "kernelspec": {
   "display_name": "Python 3",
   "language": "python",
   "name": "python3"
  },
  "language_info": {
   "codemirror_mode": {
    "name": "ipython",
    "version": 3
   },
   "file_extension": ".py",
   "mimetype": "text/x-python",
   "name": "python",
   "nbconvert_exporter": "python",
   "pygments_lexer": "ipython3",
   "version": "3.8.5"
  }
 },
 "nbformat": 4,
 "nbformat_minor": 1
}