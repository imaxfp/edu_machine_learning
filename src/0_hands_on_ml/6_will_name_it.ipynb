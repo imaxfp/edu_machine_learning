{
 "cells": [
  {
   "cell_type": "markdown",
   "source": [
    "### Underfiting or \"High bias\" VS Overfiting or \"High variance\"\n",
    "\n",
    "#### Overfitting:\n",
    "It makes accurate predictions for examples in the training set, but it does not generalize well to make accurate predictions on new, previously unseen examples.\n",
    "\n",
    "#### How to fix overfitting issue:\n",
    "1. Reduce number of features - (manually select which features to keep)\n",
    "2. Regularization - Keep all the features, but reduce the magnitude of parameters θj\n",
    "\n",
    "<img src=\"../img/fitting_problems/overfitting_problems.png\" width=\"700\"/>\n",
    "<br>\n",
    "\n",
    "The λ, or lambda, is the ***regularization parameter***. It determines how much the costs of our theta parameters are inflated.\n",
    "<br>\n",
    "<img src=\"../img/fitting_problems/regularization_formula.png\" width=\"700\"/>\n"
   ],
   "metadata": {
    "collapsed": false,
    "pycharm": {
     "name": "#%% md\n"
    }
   }
  },
  {
   "cell_type": "markdown",
   "source": [
    "### Logistic regression\n",
    "\n",
    "When using regularized logistic regression, which of these is the best way to monitor whether gradient descent is working correctly?\n",
    "\n",
    "<br>\n",
    "\n",
    "\n",
    "<img src=\"../img/fitting_problems/log_reg_regulized.png\" width=\"700\"/>\n"
   ],
   "metadata": {
    "collapsed": false
   }
  },
  {
   "cell_type": "code",
   "execution_count": null,
   "outputs": [],
   "source": [],
   "metadata": {
    "collapsed": false,
    "pycharm": {
     "name": "#%%\n"
    }
   }
  }
 ],
 "metadata": {
  "kernelspec": {
   "display_name": "Python 3",
   "language": "python",
   "name": "python3"
  },
  "language_info": {
   "codemirror_mode": {
    "name": "ipython",
    "version": 2
   },
   "file_extension": ".py",
   "mimetype": "text/x-python",
   "name": "python",
   "nbconvert_exporter": "python",
   "pygments_lexer": "ipython2",
   "version": "2.7.6"
  }
 },
 "nbformat": 4,
 "nbformat_minor": 0
}