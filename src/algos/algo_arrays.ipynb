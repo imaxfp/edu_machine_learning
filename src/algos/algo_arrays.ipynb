{
 "cells": [
  {
   "cell_type": "code",
   "execution_count": 6,
   "outputs": [
    {
     "name": "stdout",
     "output_type": "stream",
     "text": [
      "88\n",
      "55\n"
     ]
    }
   ],
   "source": [
    "def fibonacci(n):\n",
    "    if n <= 2:\n",
    "        return n\n",
    "\n",
    "    fib = [0, 1]\n",
    "    sum = 1\n",
    "    for i in range(1, n - 1):\n",
    "        fib.append(fib[i] + fib[i - 1])\n",
    "        sum += fib[i] + fib[i - 1]\n",
    "    return sum\n",
    "\n",
    "\n",
    "def fibonacci2(n: int) -> int:\n",
    "    if n < 2:\n",
    "        return n\n",
    "    prev, curr = 0, 1\n",
    "    for i in range(2, n + 1):\n",
    "        tmp = curr\n",
    "        curr = prev + curr\n",
    "        prev = tmp\n",
    "    return curr\n",
    "\n",
    "\n",
    "print(fibonacci(10))\n",
    "print(fibonacci2(10))"
   ],
   "metadata": {
    "collapsed": false,
    "pycharm": {
     "name": "#%%\n"
    }
   }
  },
  {
   "cell_type": "code",
   "execution_count": 2,
   "outputs": [
    {
     "name": "stdout",
     "output_type": "stream",
     "text": [
      "4\n"
     ]
    }
   ],
   "source": [
    "# Input: N = 39\n",
    "# Output: 3\n",
    "# Explanation: magicNumber(39) = magicNumber(3 + 9) = magicNumber(12)\n",
    "def magicNumber(n: int) -> int:\n",
    "    sum = 0\n",
    "    while n > 0:\n",
    "        last = n % 10\n",
    "        sum += last\n",
    "        n = (n - last) // 10\n",
    "        if n < 10:\n",
    "            sum += n\n",
    "            if sum < 10:\n",
    "                return sum\n",
    "            n = sum\n",
    "            sum = 0\n",
    "\n",
    "\n",
    "print(magicNumber(5521))"
   ],
   "metadata": {
    "collapsed": false,
    "pycharm": {
     "name": "#%%\n"
    }
   }
  },
  {
   "cell_type": "code",
   "execution_count": 6,
   "outputs": [
    {
     "name": "stdout",
     "output_type": "stream",
     "text": [
      "False\n",
      "True\n"
     ]
    }
   ],
   "source": [
    "# Contains Duplicate\n",
    "# 1. bruteforce O(n^2)\n",
    "# 2. Sort and compare pairs O(n log n) + O(n)\n",
    "# 3. Use 'hash set' O(n) + extra memory\n",
    "def isDuplicates(nums) -> bool:\n",
    "    hashset = set()\n",
    "    for i in nums:\n",
    "        if i in hashset:\n",
    "            return True\n",
    "        hashset.add(i)\n",
    "    return False\n",
    "\n",
    "\n",
    "print(isDuplicates([1, 2, 3, 4, 5, 6]))\n",
    "print(isDuplicates([1, 2, 3, 123, 5, 1]))"
   ],
   "metadata": {
    "collapsed": false,
    "pycharm": {
     "name": "#%%\n"
    }
   }
  },
  {
   "cell_type": "code",
   "execution_count": 16,
   "outputs": [
    {
     "name": "stdout",
     "output_type": "stream",
     "text": [
      "True\n",
      "False\n",
      "False\n"
     ]
    }
   ],
   "source": [
    "# Anagram\n",
    "\"\"\"\n",
    "An Anagram is a word or phrase formed by rearranging the letters of a different word or phrase,\n",
    "\n",
    "Input: s = \"anagram\", t = \"nagaram\"\n",
    "Output: true\n",
    "\n",
    "Input: s = \"rat\", t = \"car\"\n",
    "Output: false\n",
    "\"\"\"\n",
    "\n",
    "\n",
    "def isAnagram(s: str, t: str) -> bool:\n",
    "    if len(s) != len(t):\n",
    "        return False\n",
    "    countS, countT = {}, {}\n",
    "    for i in range(0, len(s)):\n",
    "        countS.update({s[i]: 1 + countS.get(s[i], 0)})\n",
    "        countT.update({t[i]: 1 + countT.get(t[i], 0)})\n",
    "    return countS == countT\n",
    "\n",
    "\n",
    "print(isAnagram(\"xxasdfaaa\", \"asdfaaaxx\"))\n",
    "print(isAnagram(\"wxxasdfaaa\", \"asdfaaaxxs\"))\n",
    "print(isAnagram(\"wxxasdfaaa\", \"as\"))"
   ],
   "metadata": {
    "collapsed": false,
    "pycharm": {
     "name": "#%%\n"
    }
   }
  },
  {
   "cell_type": "code",
   "execution_count": 21,
   "outputs": [
    {
     "name": "stdout",
     "output_type": "stream",
     "text": [
      "[0, 1]\n"
     ]
    }
   ],
   "source": [
    "from typing import List\n",
    "\n",
    "# Two sum\n",
    "'''\n",
    "exactly one solution, and you may not use the same element twice.\n",
    "Input: nums = [2,7,11,15], target = 9\n",
    "Output: [0,1]\n",
    "Explanation: Because nums[0] + nums[1] == 9, we return [0, 1].\n",
    "'''\n",
    "\n",
    "\n",
    "# Bruteforce solution O(n^2)\n",
    "def twoSum(nums: List[int], target: int) -> List[int]:\n",
    "    for i in range(0, len(nums)):\n",
    "        for j in range(i + 1, len(nums)):\n",
    "            if nums[i] + nums[j] == target:\n",
    "                return [i, j]\n",
    "\n",
    "\n",
    "print(twoSum([2, 7, 11, 15], 9))"
   ],
   "metadata": {
    "collapsed": false,
    "pycharm": {
     "name": "#%%\n"
    }
   }
  },
  {
   "cell_type": "code",
   "execution_count": null,
   "outputs": [],
   "source": [
    "#Input: strs = [\"eat\",\"tea\",\"tan\",\"ate\",\"nat\",\"bat\"]\n",
    "#Output: [[\"bat\"],[\"nat\",\"tan\"],[\"ate\",\"eat\",\"tea\"]]\n",
    "\n",
    "import collections\n",
    "from typing import List\n",
    "\n",
    "\n",
    "def groupAnagrams(self, strs: List[str]) -> List[List[str]]:\n",
    "    ans = collections.defaultdict(list)\n",
    "    for s in strs:\n",
    "        count = [0] * 26\n",
    "        for c in s:\n",
    "            count[ord(c) - ord('a')] += 1\n",
    "            ans[tuple(count)].append(s)\n",
    "    return ans.values()\n",
    "\n",
    "\n",
    "#Input: strs = [\"eat\",\"tea\",\"tan\",\"ate\",\"nat\",\"bat\"]\n",
    "# Output: [[\"bat\"],[\"nat\",\"tan\"],[\"ate\",\"eat\",\"tea\"]]\n",
    "\n",
    "v = [\"eat\", \"tea\", \"tan\", \"ate\", \"nat\", \"bat\"]\n",
    "print(groupAnagrams(v))"
   ],
   "metadata": {
    "collapsed": false,
    "pycharm": {
     "name": "#%%\n",
     "is_executing": true
    }
   }
  },
  {
   "cell_type": "code",
   "execution_count": 44,
   "outputs": [
    {
     "name": "stdout",
     "output_type": "stream",
     "text": [
      "[[1], [1, 1], [1, 2, 1], [1, 3, 3, 1], [1, 4, 6, 4, 1]]\n"
     ]
    }
   ],
   "source": [
    "from typing import List\n",
    "\n",
    "'''\n",
    "Pascal's Triangle\n",
    "Input: numRows = 5\n",
    "Output: [[1],[1,1],[1,2,1],[1,3,3,1],[1,4,6,4,1]]\n",
    "'''\n",
    "\n",
    "\n",
    "def generate(numRows: int) -> List[List[int]]:\n",
    "    res = [[1]]\n",
    "    for i in range(numRows - 1):\n",
    "        tmp = [0] + res[i] + [0]\n",
    "        next = []\n",
    "        for j in range(len(tmp) - 1):\n",
    "            next.append(tmp[j] + tmp[j + 1])\n",
    "        res.append(next)\n",
    "    return res\n",
    "\n",
    "\n",
    "print(generate(5))"
   ],
   "metadata": {
    "collapsed": false,
    "pycharm": {
     "name": "#%%\n"
    }
   }
  },
  {
   "cell_type": "code",
   "execution_count": 47,
   "outputs": [
    {
     "name": "stdout",
     "output_type": "stream",
     "text": [
      "[1, 3, 3, 1]\n"
     ]
    }
   ],
   "source": [
    "# Pascal's Triangle II\n",
    "'''\n",
    "Input: rowIndex = 3\n",
    "Output: [1,3,3,1]\n",
    "'''\n",
    "\n",
    "\n",
    "def generate(numRow: int) -> List[List[int]]:\n",
    "    res = [[1]]\n",
    "    for i in range(numRow):\n",
    "        tmp = [0] + res[0] + [0]\n",
    "        next = []\n",
    "        for j in range(len(tmp) - 1):\n",
    "            next.append(tmp[j] + tmp[j + 1])\n",
    "        res[0] = next\n",
    "    return res[0]\n",
    "\n",
    "print(generate(3))"
   ],
   "metadata": {
    "collapsed": false,
    "pycharm": {
     "name": "#%%\n"
    }
   }
  }
 ],
 "metadata": {
  "kernelspec": {
   "display_name": "PyCharm (amex-poc)",
   "language": "python",
   "name": "pycharm-35cda8cc"
  },
  "language_info": {
   "codemirror_mode": {
    "name": "ipython",
    "version": 3
   },
   "file_extension": ".py",
   "mimetype": "text/x-python",
   "name": "python",
   "nbconvert_exporter": "python",
   "pygments_lexer": "ipython3",
   "version": "3.8.5"
  }
 },
 "nbformat": 4,
 "nbformat_minor": 1
}