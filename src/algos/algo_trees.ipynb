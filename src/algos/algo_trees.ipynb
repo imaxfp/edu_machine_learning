{
 "cells": [
  {
   "cell_type": "code",
   "execution_count": 11,
   "outputs": [],
   "source": [
    "\"\"\"\n",
    "108. Convert Sorted Array to Binary Search Tree\n",
    "\n",
    "Input: nums = [-10,-3,0,5,9]\n",
    "Output: [0,-3,9,-10,null,5]\n",
    "Explanation: [0,-10,5,null,-3,null,9] is also accepted:\n",
    "\n",
    "\"\"\"\n",
    "\n",
    "from typing import List, Optional\n",
    "\n",
    "\n",
    "# Definition for a binary tree node.\n",
    "class TreeNode:\n",
    "    \"\"\"\n",
    "    left: TreeNode\n",
    "    right: TreeNode\n",
    "    val: current value\n",
    "    \"\"\"\n",
    "    def __init__(self, val=0, left=None, right=None):\n",
    "        self.val = val\n",
    "        self.left = left\n",
    "        self.right = right\n",
    "\n",
    "\n",
    "def sortedArrayToBST(nums: List[int]) -> Optional[TreeNode]:\n",
    "    if len(nums) == 0:\n",
    "        return None\n",
    "    middle = len(nums) // 2\n",
    "    cur_node = TreeNode(nums[middle])\n",
    "    left_nums = nums[:middle]\n",
    "    right_nums = nums[middle + 1:]\n",
    "    if len(left_nums) > 0:\n",
    "        cur_node.left = sortedArrayToBST(left_nums)\n",
    "    if len(right_nums) > 0:\n",
    "        cur_node.right = sortedArrayToBST(right_nums)\n",
    "    return cur_node\n",
    "\n",
    "\n",
    "r = sortedArrayToBST([-10, -3, 0, 5, 9])\n",
    "print(sortedArrayToBST([-10, -3, 0, 5, 9]))"
   ],
   "metadata": {
    "collapsed": false,
    "pycharm": {
     "name": "#%%\n"
    }
   }
  }
 ],
 "metadata": {
  "kernelspec": {
   "display_name": "PyCharm (amex-poc)",
   "language": "python",
   "name": "pycharm-35cda8cc"
  },
  "language_info": {
   "codemirror_mode": {
    "name": "ipython",
    "version": 3
   },
   "file_extension": ".py",
   "mimetype": "text/x-python",
   "name": "python",
   "nbconvert_exporter": "python",
   "pygments_lexer": "ipython3",
   "version": "3.8.5"
  }
 },
 "nbformat": 4,
 "nbformat_minor": 1
}