{
 "cells": [
  {
   "cell_type": "markdown",
   "source": [
    "### Sliding window problems solution\n",
    "\n",
    "You can compare solutions with https://walkccc.me/LeetCode/problems\n"
   ],
   "metadata": {
    "collapsed": false,
    "pycharm": {
     "name": "#%% md\n"
    }
   }
  },
  {
   "cell_type": "code",
   "execution_count": 3,
   "outputs": [
    {
     "name": "stdout",
     "output_type": "stream",
     "text": [
      "12.75\n",
      "5.0\n",
      "4.0\n"
     ]
    }
   ],
   "source": [
    "from typing import List\n",
    "\n",
    "'''\n",
    "643. Maximum Average Subarray I - https://leetcode.com/problems/maximum-average-subarray-i/submissions/\n",
    "\n",
    "You are given an integer array nums consisting of n elements, and an integer k.\n",
    "\n",
    "Find a contiguous subarray whose length is equal to k that has the maximum average value and return this value. Any answer with a calculation error less than 10-5 will be accepted.\n",
    "\n",
    "Example 1:\n",
    "\n",
    "Input: nums = [1,12,-5,-6,50,3], k = 4\n",
    "Output: 12.75000\n",
    "Explanation: Maximum average is (12 - 5 - 6 + 50) / 4 = 51 / 4 = 12.75\n",
    "Example 2:\n",
    "\n",
    "Input: nums = [5], k = 1\n",
    "Output: 5.00000\n",
    "'''\n",
    "\n",
    "\n",
    "class Solution:\n",
    "    '''\n",
    "    Time: O(n)\n",
    "    Space:O(1)\n",
    "    '''\n",
    "\n",
    "    def findMaxAverage(self, nums: List[int], k: int) -> float:\n",
    "        #make subarray 'window' with fixed size from 0 to 'k'\n",
    "        prev_sum = sum(nums[0:k])\n",
    "        next_sum = prev_sum\n",
    "\n",
    "        for i in range(0, len(nums) - k):\n",
    "            #Move 'window' from left to right by one position\n",
    "            next_sum = (next_sum - nums[i] + nums[k + i])\n",
    "            prev_sum = max(prev_sum, next_sum)\n",
    "\n",
    "        return prev_sum / k\n",
    "\n",
    "\n",
    "#Expected 12.75\n",
    "print(Solution().findMaxAverage([1, 12, -5, -6, 50, 3], 4))\n",
    "#Expected 5.0\n",
    "print(Solution().findMaxAverage([5], 1))\n",
    "#Expected 2.00000\n",
    "#print(Solution().findMaxAverage([0, 1, 1, 3, 3], 4))\n",
    "# Expected 3.33333\n",
    "#print(Solution().findMaxAverage([3, 3, 4, 3, 0], 3))\n",
    "# Expected 4.00000\n",
    "print(Solution().findMaxAverage([0, 4, 0, 3, 2], 1))\n"
   ],
   "metadata": {
    "collapsed": false,
    "pycharm": {
     "name": "#%%\n"
    }
   }
  },
  {
   "cell_type": "code",
   "execution_count": 78,
   "outputs": [
    {
     "name": "stdout",
     "output_type": "stream",
     "text": [
      "aAa\n",
      "Aa\n",
      "Bb\n"
     ]
    }
   ],
   "source": [
    "'''\n",
    "1763. Longest Nice Substring - https://leetcode.com/problems/longest-nice-substring/\n",
    "\n",
    "A string s is nice if, for every letter of the alphabet that s contains, it appears both in uppercase and lowercase. For example, \"abABB\" is nice because 'A' and 'a' appear, and 'B' and 'b' appear. However, \"abA\" is not because 'b' appears, but 'B' does not.\n",
    "\n",
    "Given a string s, return the longest substring of s that is nice. If there are multiple, return the substring of the earliest occurrence. If there are none, return an empty string.\n",
    "\n",
    "\n",
    "\n",
    "Example 1:\n",
    "\n",
    "Input: s = \"YazaAay\"\n",
    "Output: \"aAa\"\n",
    "Explanation: \"aAa\" is a nice string because 'A/a' is the only letter of the alphabet in s, and both 'A' and 'a' appear.\n",
    "\"aAa\" is the longest nice substring.\n",
    "Example 2:\n",
    "\n",
    "Input: s = \"Bb\"\n",
    "Output: \"Bb\"\n",
    "Explanation: \"Bb\" is a nice string because both 'B' and 'b' appear. The whole string is a substring.\n",
    "Example 3:\n",
    "\n",
    "Input: s = \"c\"\n",
    "Output: \"\"\n",
    "Explanation: There are no nice substrings.\n",
    "\n",
    "\n",
    "Constraints:\n",
    "\n",
    "1 <= s.length <= 100\n",
    "s consists of uppercase and lowercase English letters.\n",
    "\n",
    "'''\n",
    "\n",
    "\n",
    "class Solution:\n",
    "\n",
    "    def check_string(self, nice_str: str) -> str:\n",
    "\n",
    "        first_set = set()\n",
    "        second_set = set()\n",
    "        for s in nice_str:\n",
    "            if s.isupper():\n",
    "                first_set.add(s.lower())\n",
    "            elif s.islower():\n",
    "                second_set.add(s.lower())\n",
    "        if first_set == second_set:\n",
    "            return nice_str\n",
    "        return \"\"\n",
    "\n",
    "    def longestNiceSubstring(self, s: str) -> str:\n",
    "\n",
    "        for i in range(len(s), 1, -1):\n",
    "            #n - size of the window\n",
    "            n = i\n",
    "            st = 0\n",
    "            while n < len(s) + 1:\n",
    "                window_srt = s[st:n]\n",
    "                res = self.check_string(window_srt)\n",
    "                if res:\n",
    "                    return res\n",
    "                n += 1\n",
    "                st += 1\n",
    "        return \"\"\n",
    "\n",
    "\n",
    "print(Solution().longestNiceSubstring(\"YazaAay\"))\n",
    "print(Solution().longestNiceSubstring(\"AaZx\"))\n",
    "print(Solution().longestNiceSubstring(\"Bb\"))"
   ],
   "metadata": {
    "collapsed": false,
    "pycharm": {
     "name": "#%%\n"
    }
   }
  },
  {
   "cell_type": "code",
   "execution_count": 27,
   "outputs": [
    {
     "name": "stdout",
     "output_type": "stream",
     "text": [
      "['xyz']\n",
      "['abc', 'bca', 'cab', 'abc']\n"
     ]
    }
   ],
   "source": [
    "'''\n",
    "1876. Substrings of Size Three with Distinct Characters - https://leetcode.com/problems/substrings-of-size-three-with-distinct-characters/\n",
    "\n",
    "A string is good if there are no repeated characters.\n",
    "\n",
    "Given a string 's', return the number of good substrings of length three in 's'.\n",
    "Note that if there are multiple occurrences of the same substring, every occurrence should be counted.\n",
    "A substring is a contiguous sequence of characters in a string.\n",
    "\n",
    "Example 1:\n",
    "\n",
    "Input: s = \"xyzzaz\"\n",
    "Output: 1\n",
    "Explanation: There are 4 substrings of size 3: \"xyz\", \"yzz\", \"zza\", and \"zaz\".\n",
    "The only good substring of length 3 is \"xyz\".\n",
    "Example 2:\n",
    "\n",
    "Input: s = \"aababcabc\"\n",
    "Output: 4\n",
    "Explanation: There are 7 substrings of size 3: \"aab\", \"aba\", \"bab\", \"abc\", \"bca\", \"cab\", and \"abc\".\n",
    "The good substrings are \"abc\", \"bca\", \"cab\", and \"abc\".\n",
    "'''\n",
    "\n",
    "\n",
    "class Solution:\n",
    "    def isSubstrVal(self, s):\n",
    "        for i in range(0, len(s)):\n",
    "            for j in range(i + 1, len(s)):\n",
    "                if s[i] == s[j]:\n",
    "                    return False\n",
    "\n",
    "        return True\n",
    "\n",
    "    def countGoodSubstrings(self, s: str) -> int:\n",
    "        # good substrings of length three\n",
    "        n = 3\n",
    "        i = 0\n",
    "        res = []\n",
    "\n",
    "        while n <= len(s):\n",
    "            sub = s[i:n]\n",
    "            if self.isSubstrVal(sub):\n",
    "                res.append(sub)\n",
    "\n",
    "            i += 1\n",
    "            n += 1\n",
    "\n",
    "        return res\n",
    "        #return len(res)\n",
    "\n",
    "\n",
    "print(Solution().countGoodSubstrings(\"xyzzaz\"))\n",
    "print(Solution().countGoodSubstrings(\"aababcabc\"))"
   ],
   "metadata": {
    "collapsed": false,
    "pycharm": {
     "name": "#%%\n"
    }
   }
  },
  {
   "cell_type": "code",
   "execution_count": 52,
   "outputs": [
    {
     "name": "stdout",
     "output_type": "stream",
     "text": [
      "5\n",
      "0\n"
     ]
    }
   ],
   "source": [
    "'''\n",
    "121. Best Time to Buy and Sell Stock\n",
    "\n",
    "You are given an array prices where prices[i] is the price of a given stock on the ith day.\n",
    "You want to maximize your profit by choosing a single day to buy one stock and choosing a different day in the future to sell that stock.\n",
    "Return the maximum profit you can achieve from this transaction. If you cannot achieve any profit, return 0.\n",
    "\n",
    "Example 1:\n",
    "\n",
    "Input: prices = [7,1,5,3,6,4]\n",
    "Output: 5\n",
    "Explanation: Buy on day 2 (price = 1) and sell on day 5 (price = 6), profit = 6-1 = 5.\n",
    "Note that buying on day 2 and selling on day 1 is not allowed because you must buy before you sell.\n",
    "Example 2:\n",
    "\n",
    "Input: prices = [7,6,4,3,1]\n",
    "Output: 0\n",
    "Explanation: In this case, no transactions are done and the max profit = 0.\n",
    "'''\n",
    "\n",
    "\n",
    "class Solution:\n",
    "    def maxProfit(self, prices: List[int]) -> int:\n",
    "        left = 0\n",
    "        right = 1\n",
    "        profit = 0\n",
    "\n",
    "        while right < len(prices):\n",
    "            if prices[right] > prices[left]:\n",
    "                profit = max(prices[right] - prices[left], profit)\n",
    "            else:\n",
    "                left = right\n",
    "            right += 1\n",
    "\n",
    "        return profit\n",
    "\n",
    "\n",
    "print(Solution().maxProfit([7, 1, 5, 3, 6, 4]))\n",
    "print(Solution().maxProfit([7, 6, 4, 3, 1]))"
   ],
   "metadata": {
    "collapsed": false,
    "pycharm": {
     "name": "#%%\n"
    }
   }
  },
  {
   "cell_type": "code",
   "execution_count": 120,
   "outputs": [
    {
     "name": "stdout",
     "output_type": "stream",
     "text": [
      "abc\n",
      "bca\n",
      "cab\n",
      "abc\n",
      "bc\n",
      "cb\n",
      "b\n",
      "3\n",
      "dv\n",
      "3\n"
     ]
    }
   ],
   "source": [
    "'''\n",
    "3. Longest Substring Without Repeating Characters\n",
    "\n",
    "Given a string s, find the length of the longest substring without repeating characters.\n",
    "\n",
    "Example 1:\n",
    "\n",
    "Input: s = \"abcabcbb\"\n",
    "Output: 3\n",
    "Explanation: The answer is \"abc\", with the length of 3.\n",
    "Example 2:\n",
    "\n",
    "Input: s = \"bbbbb\"\n",
    "Output: 1\n",
    "Explanation: The answer is \"b\", with the length of 1.\n",
    "Example 3:\n",
    "\n",
    "Input: s = \"pwwkew\"\n",
    "Output: 3\n",
    "Explanation: The answer is \"wke\", with the length of 3.\n",
    "Notice that the answer must be a substring, \"pwke\" is a subsequence and not a substring.\n",
    "'''\n",
    "\n",
    "\n",
    "class Solution:\n",
    "    def lengthOfLongestSubstring(self, s: str) -> int:\n",
    "        if s == \"\": return 0\n",
    "        left = 0\n",
    "        right = 1\n",
    "        res = 1\n",
    "        sub_str_set = set(s[left])\n",
    "        while right < len(s):\n",
    "            if s[right] in sub_str_set:\n",
    "                print(s[left:right])\n",
    "                left += 1\n",
    "                right = left + 1\n",
    "\n",
    "                sub_str_set = set(s[left])\n",
    "            else:\n",
    "                sub_str_set.add(s[right])\n",
    "                res = max(res, len(sub_str_set))\n",
    "                right += 1\n",
    "\n",
    "        return res\n",
    "\n",
    "\n",
    "print(Solution().lengthOfLongestSubstring(\"abcabcbb\"))\n",
    "#print(Solution().lengthOfLongestSubstring(\"bbbbb\"))\n",
    "#print(Solution().lengthOfLongestSubstring(\"pwwkew\"))\n",
    "print(Solution().lengthOfLongestSubstring(\"dvdf\"))\n",
    "\n"
   ],
   "metadata": {
    "collapsed": false,
    "pycharm": {
     "name": "#%%\n"
    }
   }
  }
 ],
 "metadata": {
  "kernelspec": {
   "display_name": "Python 3",
   "language": "python",
   "name": "python3"
  },
  "language_info": {
   "codemirror_mode": {
    "name": "ipython",
    "version": 2
   },
   "file_extension": ".py",
   "mimetype": "text/x-python",
   "name": "python",
   "nbconvert_exporter": "python",
   "pygments_lexer": "ipython2",
   "version": "2.7.6"
  }
 },
 "nbformat": 4,
 "nbformat_minor": 0
}