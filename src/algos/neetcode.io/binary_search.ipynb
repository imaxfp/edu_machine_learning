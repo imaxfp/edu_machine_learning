{
 "cells": [
  {
   "cell_type": "code",
   "execution_count": 176,
   "metadata": {
    "collapsed": true
   },
   "outputs": [
    {
     "name": "stdout",
     "output_type": "stream",
     "text": [
      "-1\n",
      "4\n",
      "0\n"
     ]
    }
   ],
   "source": [
    "'''\n",
    "704. Binary Search\n",
    "\n",
    "Given an array of integers nums which is sorted in ascending order, and an integer target, write a function to search target in nums. If target exists, then return its index. Otherwise, return -1.\n",
    "\n",
    "You must write an algorithm with O(log n) runtime complexity.\n",
    "\n",
    "Example 1:\n",
    "\n",
    "Input: nums = [-1,0,3,5,9,12], target = 9\n",
    "Output: 4\n",
    "Explanation: 9 exists in nums and its index is 4\n",
    "Example 2:\n",
    "\n",
    "Input: nums = [-1,0,3,5,9,12], target = 2\n",
    "Output: -1\n",
    "Explanation: 2 does not exist in nums so return -1\n",
    "'''\n",
    "\n",
    "from typing import List\n",
    "\n",
    "class Solution:\n",
    "    def search(self, nums: List[int], target: int) -> int:\n",
    "        l = 0\n",
    "        r = len(nums) - 1\n",
    "        #steps = int(math.log(len(nums), 2))\n",
    "\n",
    "        while l <= r:\n",
    "            #recalculate center each step\n",
    "            pivot = int((r + l) / 2)\n",
    "\n",
    "            if nums[pivot] == target:\n",
    "                return pivot\n",
    "\n",
    "            if nums[pivot] < target:\n",
    "                #move pivot to right\n",
    "                l = pivot + 1\n",
    "\n",
    "            if nums[pivot] > target:\n",
    "                #move pivot to left\n",
    "                r = pivot - 1\n",
    "\n",
    "        return -1\n",
    "\n",
    "\n",
    "#print(Solution().search([-1, 0, 3, 5, 9, 12, 14, 19], 9))\n",
    "#print(Solution().search([-1, 3, 5, 9, 12], 2))\n",
    "#print(Solution().search([-1, 0, 3, 5, 9, 12], 9))\n",
    "print(Solution().search([-1, 0, 3, 5, 9, 12], 13))\n",
    "print(Solution().search([-1, 0, 3, 5, 9, 12], 9))\n",
    "print(Solution().search([5], 5))"
   ]
  },
  {
   "cell_type": "code",
   "execution_count": 187,
   "outputs": [
    {
     "name": "stdout",
     "output_type": "stream",
     "text": [
      "False\n",
      "False\n",
      "True\n"
     ]
    }
   ],
   "source": [
    "\"\"\"\n",
    "74. Search a 2D Matrix\n",
    "\n",
    "Write an efficient algorithm that searches for a value target in an m x n integer matrix matrix. This matrix has the following properties:\n",
    "\n",
    "Integers in each row are sorted from left to right.\n",
    "The first integer of each row is greater than the last integer of the previous row.\n",
    "\n",
    "Example 1:\n",
    "Input: matrix = [[1,3,5,7],[10,11,16,20],[23,30,34,60]], target = 3\n",
    "Output: true\n",
    "\n",
    "Example 2:\n",
    "Input: matrix = [[1,3,5,7],[10,11,16,20],[23,30,34,60]], target = 13\n",
    "Output: false\n",
    "\"\"\"\n",
    "\n",
    "\n",
    "class Solution:\n",
    "\n",
    "    def findRow(self, matrix: List[List[int]], target: int):\n",
    "        # Can be also done with binarySearch Modification\n",
    "        for i in range(0, len(matrix)):\n",
    "            last_in_row = matrix[i][len(matrix[0]) - 1]\n",
    "            if target <= last_in_row:\n",
    "                return i\n",
    "        return 0\n",
    "\n",
    "    def searchMatrix(self, matrix: List[List[int]], target: int) -> bool:\n",
    "        res_row = self.findRow(matrix, target)\n",
    "        row_for_search = matrix[res_row]\n",
    "        #print(row_for_search)\n",
    "        l = 0\n",
    "        r = len(row_for_search) - 1\n",
    "\n",
    "        while l <= r:\n",
    "            midd = int((l + r) / 2)\n",
    "            if row_for_search[midd] < target:\n",
    "                l = midd + 1\n",
    "            if row_for_search[midd] > target:\n",
    "                r = midd - 1\n",
    "            if row_for_search[midd] == target:\n",
    "                return True\n",
    "        return False\n",
    "\n",
    "\n",
    "#print(Solution().searchMatrix([[1, 3, 5, 7], [10, 11, 16, 20], [23, 30, 34, 60], [63, 64, 77, 80]], 77))\n",
    "print(Solution().searchMatrix([[1]], 2))\n",
    "print(Solution().searchMatrix([[1, 1]], 2))\n",
    "print(Solution().searchMatrix([[1, 3, 5, 7], [10, 11, 16, 20], [23, 30, 34, 60]], 3))"
   ],
   "metadata": {
    "collapsed": false,
    "pycharm": {
     "name": "#%%\n"
    }
   }
  },
  {
   "cell_type": "code",
   "execution_count": 248,
   "outputs": [
    {
     "name": "stdout",
     "output_type": "stream",
     "text": [
      "5 3 1\n",
      "3 3 3\n",
      "2\n"
     ]
    }
   ],
   "source": [
    "'''\n",
    "33. Search in Rotated Sorted Array\n",
    "\n",
    "There is an integer array nums sorted in ascending order (with distinct values).\n",
    "\n",
    "Prior to being passed to your function, nums is possibly rotated at an unknown pivot index k (1 <= k < nums.length) such that the resulting array is [nums[k], nums[k+1], ..., nums[n-1], nums[0], nums[1], ..., nums[k-1]] (0-indexed).\n",
    "For example, [0,1,2,4,5,6,7] might be rotated at pivot index 3 and become [4,5,6,7,0,1,2].\n",
    "\n",
    "Given the array nums after the possible rotation and an integer target, return the index of target if it is in nums, or -1 if it is not in nums.\n",
    "\n",
    "You must write an algorithm with O(log n) runtime complexity.\n",
    "\n",
    "Example 1:\n",
    "\n",
    "Input: nums = [4,5,6,7,0,1,2], target = 0\n",
    "Output: 4\n",
    "Example 2:\n",
    "\n",
    "Input: nums = [4,5,6,7,0,1,2], target = 3\n",
    "Output: -1\n",
    "Example 3:\n",
    "\n",
    "Input: nums = [1], target = 0\n",
    "Output: -1\n",
    "'''\n",
    "\n",
    "\n",
    "class Solution:\n",
    "\n",
    "    def search(self, nums: List[int], target: int) -> int:\n",
    "        # Implement binary search with additional features\n",
    "        # if L less than target - swap to the right side\n",
    "        # if R less then target swap to the left side\n",
    "        l, r = 0, len(nums) - 1\n",
    "\n",
    "        while l <= r:\n",
    "            midd = (l + r) // 2\n",
    "\n",
    "            print(nums[l], nums[r], nums[midd])\n",
    "\n",
    "            if target == nums[midd]:\n",
    "                return midd\n",
    "\n",
    "            # if left sorted position\n",
    "            # [4,5,6,7,0,1,2]; target=0; mid=7\n",
    "            if nums[l] <= nums[midd]:\n",
    "                if target > nums[midd] or target < nums[l]:\n",
    "                    l = midd + 1\n",
    "                # number into left sorted position\n",
    "                else:\n",
    "                    r = midd - 1\n",
    "\n",
    "                #if right sorted position\n",
    "                # [|4,5,6,7,0|,1,2,3]; l=4 target=2; mid=0\n",
    "            else:\n",
    "                if target < nums[midd] or target > nums[r]:\n",
    "                    r = midd - 1\n",
    "                else:\n",
    "                    l = midd + 1\n",
    "\n",
    "        return -1\n",
    "\n",
    "\n",
    "#print(Solution().search([4, 5, 6, 7, 0, 1, 2], 0))\n",
    "#print(Solution().search([4, 5, 6, 7, 0, 1, 2], 3))\n",
    "#print(Solution().search([1], 0))\n",
    "print(Solution().search([5, 1, 3], 3))\n",
    "\n"
   ],
   "metadata": {
    "collapsed": false,
    "pycharm": {
     "name": "#%%\n"
    }
   }
  }
 ],
 "metadata": {
  "kernelspec": {
   "display_name": "Python 3",
   "language": "python",
   "name": "python3"
  },
  "language_info": {
   "codemirror_mode": {
    "name": "ipython",
    "version": 2
   },
   "file_extension": ".py",
   "mimetype": "text/x-python",
   "name": "python",
   "nbconvert_exporter": "python",
   "pygments_lexer": "ipython2",
   "version": "2.7.6"
  }
 },
 "nbformat": 4,
 "nbformat_minor": 0
}