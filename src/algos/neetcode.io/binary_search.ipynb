{
 "cells": [
  {
   "cell_type": "code",
   "execution_count": 57,
   "metadata": {
    "collapsed": true
   },
   "outputs": [
    {
     "name": "stdout",
     "output_type": "stream",
     "text": [
      "-1\n",
      "4\n",
      "0\n"
     ]
    }
   ],
   "source": [
    "'''\n",
    "704. Binary Search\n",
    "\n",
    "Given an array of integers nums which is sorted in ascending order, and an integer target, write a function to search target in nums. If target exists, then return its index. Otherwise, return -1.\n",
    "\n",
    "You must write an algorithm with O(log n) runtime complexity.\n",
    "\n",
    "Example 1:\n",
    "\n",
    "Input: nums = [-1,0,3,5,9,12], target = 9\n",
    "Output: 4\n",
    "Explanation: 9 exists in nums and its index is 4\n",
    "Example 2:\n",
    "\n",
    "Input: nums = [-1,0,3,5,9,12], target = 2\n",
    "Output: -1\n",
    "Explanation: 2 does not exist in nums so return -1\n",
    "'''\n",
    "\n",
    "from typing import List\n",
    "import math\n",
    "\n",
    "\n",
    "class Solution:\n",
    "    def search(self, nums: List[int], target: int) -> int:\n",
    "        l = 0\n",
    "        r = len(nums) - 1\n",
    "        #steps = int(math.log(len(nums), 2))\n",
    "\n",
    "        while r >= l:\n",
    "            #recalculate center each step\n",
    "            pivot = int((r + l) / 2)\n",
    "\n",
    "            if nums[pivot] == target:\n",
    "                return pivot\n",
    "\n",
    "            if nums[pivot] < target:\n",
    "                #move pivot to right\n",
    "                l = pivot + 1\n",
    "\n",
    "            if nums[pivot] > target:\n",
    "                #move pivot to left\n",
    "                r = pivot - 1\n",
    "\n",
    "        return -1\n",
    "\n",
    "\n",
    "#print(Solution().search([-1, 0, 3, 5, 9, 12, 14, 19], 9))\n",
    "#print(Solution().search([-1, 3, 5, 9, 12], 2))\n",
    "#print(Solution().search([-1, 0, 3, 5, 9, 12], 9))\n",
    "print(Solution().search([-1, 0, 3, 5, 9, 12], 13))\n",
    "print(Solution().search([-1, 0, 3, 5, 9, 12], 9))\n",
    "print(Solution().search([5], 5))\n"
   ]
  }
 ],
 "metadata": {
  "kernelspec": {
   "display_name": "Python 3",
   "language": "python",
   "name": "python3"
  },
  "language_info": {
   "codemirror_mode": {
    "name": "ipython",
    "version": 2
   },
   "file_extension": ".py",
   "mimetype": "text/x-python",
   "name": "python",
   "nbconvert_exporter": "python",
   "pygments_lexer": "ipython2",
   "version": "2.7.6"
  }
 },
 "nbformat": 4,
 "nbformat_minor": 0
}