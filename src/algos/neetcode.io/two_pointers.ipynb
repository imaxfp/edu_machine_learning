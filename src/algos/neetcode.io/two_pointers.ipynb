{
 "cells": [
  {
   "cell_type": "markdown",
   "metadata": {
    "collapsed": true,
    "pycharm": {
     "name": "#%% md\n"
    }
   },
   "source": [
    "### Please take a look details on https://neetcode.io"
   ]
  },
  {
   "cell_type": "code",
   "execution_count": 65,
   "outputs": [
    {
     "data": {
      "text/plain": "True"
     },
     "execution_count": 65,
     "metadata": {},
     "output_type": "execute_result"
    }
   ],
   "source": [
    "'''\n",
    "Valid Palindrome\n",
    "\n",
    "Example 1:\n",
    "Input: s = \"A man, a plan, a canal: Panama\"\n",
    "Output: true\n",
    "Explanation: \"amanaplanacanalpanama\" is a palindrome.\n",
    "\n",
    "\n",
    "Example 2:\n",
    "Input: s = \"race a car\"\n",
    "Output: false\n",
    "Explanation: \"raceacar\" is not a palindrome.\n",
    "'''\n",
    "\n",
    "\n",
    "class Solution:\n",
    "\n",
    "    def simple(self, s: str) -> bool:\n",
    "        \"\"\"\n",
    "        Complexity is O(n*3)\n",
    "        Simple solution. Use extra memory and CPU\n",
    "        \"\"\"\n",
    "        prepared_str = ''.join(list(filter(lambda ch: ch.isalpha(), s)))\n",
    "        prepared_str = prepared_str.lower()\n",
    "        return prepared_str == \"\".join(reversed(prepared_str))\n",
    "        #return prepared_str == prepared_str[::-1]\n",
    "\n",
    "    def two_pointers_helper(self, left, right, s):\n",
    "        \"\"\"\n",
    "        Complexity is O(n)\n",
    "        Advanced solution based on two pointers\n",
    "        \"\"\"\n",
    "        sl = \" \"\n",
    "        sr = \" \"\n",
    "\n",
    "        while sl.isalpha() == False:\n",
    "            sl = s[left].lower()\n",
    "            left += 1\n",
    "\n",
    "        while sr.isalpha() == False:\n",
    "            sr = s[right].lower()\n",
    "            right -= 1\n",
    "\n",
    "        return left, right, sl, sr\n",
    "\n",
    "    def two_pointers(self, left, right, s):\n",
    "        while left < right:\n",
    "            left, right, sl, sr = self.two_pointers_helper(left, right, s)\n",
    "            if sl != sr:\n",
    "                return False\n",
    "        return True\n",
    "\n",
    "    def isPalindrome(self, s: str) -> bool:\n",
    "        #return self.simple(s)\n",
    "        return self.two_pointers(0, len(s) - 1, s)\n",
    "\n",
    "\n",
    "Solution().isPalindrome(\"A man, a plan, a canal: Panama\")"
   ],
   "metadata": {
    "collapsed": false,
    "pycharm": {
     "name": "#%%\n"
    }
   }
  },
  {
   "cell_type": "code",
   "execution_count": 63,
   "outputs": [
    {
     "data": {
      "text/plain": "[1, 3]"
     },
     "execution_count": 63,
     "metadata": {},
     "output_type": "execute_result"
    }
   ],
   "source": [
    "'''\n",
    "Two Sum II\n",
    "\n",
    "Examples:\n",
    "Input: numbers = [2,7,11,15], target = 9\n",
    "Output: [1,2]\n",
    "Explanation: The sum of 2 and 7 is 9. Therefore, index1 = 1, index2 = 2. We return [1, 2].\n",
    "\n",
    "Input: numbers = [2,3,4], target = 6\n",
    "Output: [1,3]\n",
    "Explanation: The sum of 2 and 4 is 6. Therefore index1 = 1, index2 = 3. We return [1, 3].\n",
    "\n",
    "'''\n",
    "from typing import List\n",
    "\n",
    "\n",
    "class Solution:\n",
    "\n",
    "    def twoSum_rec(self, numbers: List[int], target: int, left: int, right: int):\n",
    "        res = numbers[left] + numbers[right]\n",
    "        # decrease sum\n",
    "        if res > target:\n",
    "            right -= 1\n",
    "            return self.twoSum_rec(numbers, target, left, right)\n",
    "        # increase sum\n",
    "        if res < target:\n",
    "            left += 1\n",
    "            return self.twoSum_rec(numbers, target, left, right)\n",
    "        return [left + 1, right + 1]\n",
    "\n",
    "    def twoSum(self, numbers: List[int], target: int) -> List[int]:\n",
    "        '''\n",
    "        Complexity is O(1)\n",
    "        :param numbers:\n",
    "        :param target:\n",
    "        :return:\n",
    "        '''\n",
    "        return self.twoSum_rec(numbers, target, 0, len(numbers) - 1)\n",
    "\n",
    "\n",
    "Solution().twoSum(numbers=[2, 3, 4], target=6)"
   ],
   "metadata": {
    "collapsed": false,
    "pycharm": {
     "name": "#%%\n"
    }
   }
  },
  {
   "cell_type": "code",
   "execution_count": 203,
   "outputs": [
    {
     "data": {
      "text/plain": "[[-1, -1, 2], [-1, 0, 1]]"
     },
     "execution_count": 203,
     "metadata": {},
     "output_type": "execute_result"
    }
   ],
   "source": [
    "'''\n",
    "3Sum\n",
    "\n",
    "Given an integer array nums, return all the triplets [nums[i], nums[j], nums[k]] such that i != j, i != k, and j != k, and nums[i] + nums[j] + nums[k] == 0.\n",
    "\n",
    "Notice that the solution set must not contain duplicate triplets.\n",
    "\n",
    "Examples:\n",
    "\n",
    "Input: nums = [-1,0,1,2,-1,-4]\n",
    "Output: [[-1,-1,2],[-1,0,1]]\n",
    "\n",
    "Input: nums = [0,0,0,0]\n",
    "Output: [[0,0,0]]\n",
    "\n",
    "Input: nums = [-2,0,1,1,2]\n",
    "Output: [[-2,0,2],[-2,1,1]]\n",
    "\n",
    "'''\n",
    "from typing import List\n",
    "\n",
    "\n",
    "class Solution:\n",
    "\n",
    "    def subsum_pointers_rec(self, left: int, right: int, sorted_nums: List[int], curr, res_list: List):\n",
    "        res = sorted_nums[curr] + sorted_nums[left] + sorted_nums[right]\n",
    "\n",
    "        if left >= right:\n",
    "            return res_list\n",
    "\n",
    "        if res == 0:\n",
    "            res_list.append([sorted_nums[curr], sorted_nums[left], sorted_nums[right]])\n",
    "            return self.subsum_pointers_rec(left + 1, right, sorted_nums, curr, res_list)\n",
    "\n",
    "        if res > 0:\n",
    "            return self.subsum_pointers_rec(left, right - 1, sorted_nums, curr, res_list)\n",
    "\n",
    "        if res < 0:\n",
    "            return self.subsum_pointers_rec(left + 1, right, sorted_nums, curr, res_list)\n",
    "\n",
    "    def threeSum(self, nums: List[int]) -> List[List[int]]:\n",
    "        sorted_nums = sorted(nums)\n",
    "        res = []\n",
    "        for n in range(0, len(nums) - 1):\n",
    "            if n > 0 and sorted_nums[n] == sorted_nums[n - 1]:\n",
    "                continue\n",
    "            res = res + self.subsum_pointers_rec(n + 1, len(sorted_nums) - 1, sorted_nums, n, [])\n",
    "        return res\n",
    "\n",
    "\n",
    "Solution().threeSum([-1, 0, 1, 2, -1, -4])"
   ],
   "metadata": {
    "collapsed": false,
    "pycharm": {
     "name": "#%%\n"
    }
   }
  },
  {
   "cell_type": "code",
   "execution_count": 224,
   "outputs": [
    {
     "data": {
      "text/plain": "49"
     },
     "execution_count": 224,
     "metadata": {},
     "output_type": "execute_result"
    }
   ],
   "source": [
    "\"\"\"\n",
    "Container with Most Water\n",
    "\n",
    "https://leetcode.com/problems/container-with-most-water/\n",
    "\n",
    "Find two lines that together with the x-axis form a container, such that the container contains the most water.\n",
    "\n",
    "Examples:\n",
    "\n",
    "Input: height = [1,8,6,2,5,4,8,3,7]\n",
    "Output: 49\n",
    "Explanation: The above vertical lines are represented by array [1,8,6,2,5,4,8,3,7]. In this case, the max area of water (blue section) the container can contain is 49.\n",
    "\n",
    "Input: height = [1,1]\n",
    "Output: 1\n",
    "\"\"\"\n",
    "\n",
    "\n",
    "class Solution:\n",
    "\n",
    "    def maxArea(self, height: List[int]) -> int:\n",
    "        \"\"\"\n",
    "        Complexity is O(n)\n",
    "        \"\"\"\n",
    "        l = 0\n",
    "        r = len(height) - 1\n",
    "        res_area = 0\n",
    "\n",
    "        while l < r:\n",
    "            area = (r - l) * min(height[l], height[r])\n",
    "            res_area = max(area, res_area)\n",
    "\n",
    "            if height[l] < height[r]:\n",
    "                l += 1\n",
    "            else:\n",
    "                r -= 1\n",
    "        return res_area\n",
    "\n",
    "Solution().maxArea([1, 8, 6, 2, 5, 4, 8, 3, 7])"
   ],
   "metadata": {
    "collapsed": false,
    "pycharm": {
     "name": "#%%\n"
    }
   }
  },
  {
   "cell_type": "code",
   "execution_count": null,
   "outputs": [],
   "source": [
    "# TODO https://leetcode.com/problems/trapping-rain-water/"
   ],
   "metadata": {
    "collapsed": false,
    "pycharm": {
     "name": "#%%\n"
    }
   }
  }
 ],
 "metadata": {
  "kernelspec": {
   "display_name": "Python 3",
   "language": "python",
   "name": "python3"
  },
  "language_info": {
   "codemirror_mode": {
    "name": "ipython",
    "version": 2
   },
   "file_extension": ".py",
   "mimetype": "text/x-python",
   "name": "python",
   "nbconvert_exporter": "python",
   "pygments_lexer": "ipython2",
   "version": "2.7.6"
  }
 },
 "nbformat": 4,
 "nbformat_minor": 0
}