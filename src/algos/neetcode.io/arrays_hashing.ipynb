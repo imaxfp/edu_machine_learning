{
 "cells": [
  {
   "cell_type": "code",
   "execution_count": 9,
   "metadata": {
    "collapsed": true
   },
   "outputs": [
    {
     "name": "stdout",
     "output_type": "stream",
     "text": [
      "True\n"
     ]
    }
   ],
   "source": [
    "\"\"\"\n",
    "217. Contains Duplicate\n",
    "\n",
    "Given an integer array nums, return true if any value appears at least twice in the array, and return false if every element is distinct.\n",
    "\n",
    "Example 1:\n",
    "\n",
    "Input: nums = [1,2,3,1]\n",
    "Output: true\n",
    "Example 2:\n",
    "\n",
    "Input: nums = [1,2,3,4]\n",
    "Output: false\n",
    "Example 3:\n",
    "\n",
    "Input: nums = [1,1,1,3,3,4,3,2,4,2]\n",
    "Output: true\n",
    "\"\"\"\n",
    "\n",
    "from typing import List\n",
    "\n",
    "\n",
    "class Solution:\n",
    "    def containsDuplicate(self, nums: List[int]) -> bool:\n",
    "        hashset = set()\n",
    "        for i in nums:\n",
    "            if i in hashset:\n",
    "                return True\n",
    "            hashset.add(i)\n",
    "        return False\n",
    "\n",
    "\n",
    "print(Solution().containsDuplicate([1, 2, 3, 1]))"
   ]
  },
  {
   "cell_type": "code",
   "execution_count": 11,
   "outputs": [
    {
     "name": "stdout",
     "output_type": "stream",
     "text": [
      "True\n",
      "False\n"
     ]
    }
   ],
   "source": [
    "\"\"\"\n",
    "242. Valid Anagram O(n*m)\n",
    "Given two strings s and t, return true if t is an anagram of s, and false otherwise.\n",
    "\n",
    "An Anagram is a word or phrase formed by rearranging the letters of a different word or phrase, typically using all the original letters exactly once.\n",
    "\n",
    "\n",
    "Example 1:\n",
    "\n",
    "Input: s = \"anagram\", t = \"nagaram\"\n",
    "Output: true\n",
    "Example 2:\n",
    "\n",
    "Input: s = \"rat\", t = \"car\"\n",
    "Output: false\n",
    "\"\"\"\n",
    "\n",
    "\n",
    "class Solution:\n",
    "    def isAnagram(self, s: str, t: str) -> bool:\n",
    "\n",
    "        for i in s:\n",
    "            is_letter_exists = False\n",
    "            for j in t:\n",
    "                if j == i:\n",
    "                    is_letter_exists = True\n",
    "                    break\n",
    "            if not is_letter_exists:\n",
    "                return False\n",
    "\n",
    "        return True\n",
    "\n",
    "\n",
    "print(Solution().isAnagram(\"anagram\", \"nagaram\"))\n",
    "print(Solution().isAnagram(\"rat\", \"car\"))"
   ],
   "metadata": {
    "collapsed": false,
    "pycharm": {
     "name": "#%%\n"
    }
   }
  },
  {
   "cell_type": "code",
   "execution_count": 14,
   "outputs": [
    {
     "name": "stdout",
     "output_type": "stream",
     "text": [
      "True\n",
      "False\n",
      "False\n"
     ]
    }
   ],
   "source": [
    "\"\"\"\n",
    "242. Valid Anagram - Hashing approach\n",
    "Given two strings s and t, return true if t is an anagram of s, and false otherwise.\n",
    "\n",
    "An Anagram is a word or phrase formed by rearranging the letters of a different word or phrase, typically using all the original letters exactly once.\n",
    "\n",
    "\n",
    "Example 1:\n",
    "\n",
    "Input: s = \"anagram\", t = \"nagaram\"\n",
    "Output: true\n",
    "Example 2:\n",
    "\n",
    "Input: s = \"rat\", t = \"car\"\n",
    "Output: false\n",
    "\"\"\"\n",
    "\n",
    "\n",
    "class Solution:\n",
    "    def isAnagram(self, s: str, t: str) -> bool:\n",
    "        items_s = dict()\n",
    "        items_t = dict()\n",
    "\n",
    "        for ls in s:\n",
    "            items_s.update({ls: items_s.get(ls, 0) + 1})\n",
    "\n",
    "        for lt in t:\n",
    "            items_t.update({lt: items_t.get(lt, 0) + 1})\n",
    "\n",
    "        for k in items_s.keys():\n",
    "            if items_s.get(k) != items_t.get(k):\n",
    "                return False\n",
    "\n",
    "        return len(items_s.values()) == len(items_t.values())\n",
    "\n",
    "\n",
    "print(Solution().isAnagram(\"anagram\", \"nagaram\"))\n",
    "print(Solution().isAnagram(\"rat\", \"car\"))\n",
    "print(Solution().isAnagram(\"a\", \"ab\"))"
   ],
   "metadata": {
    "collapsed": false,
    "pycharm": {
     "name": "#%%\n"
    }
   }
  },
  {
   "cell_type": "code",
   "execution_count": 40,
   "outputs": [
    {
     "name": "stdout",
     "output_type": "stream",
     "text": [
      "[1, 2]\n",
      "[1, 2]\n",
      "[0, 1]\n"
     ]
    }
   ],
   "source": [
    "'''\n",
    "1. Two Sum\n",
    "\n",
    "Given an array of integers nums and an integer target, return indices of the two numbers such that they add up to target.\n",
    "\n",
    "You may assume that each input would have exactly one solution, and you may not use the same element twice.\n",
    "\n",
    "You can return the answer in any order.\n",
    "\n",
    "Example 1:\n",
    "\n",
    "Input: nums = [2,7,11,15], target = 9\n",
    "Output: [0,1]\n",
    "Explanation: Because nums[0] + nums[1] == 9, we return [0, 1].\n",
    "Example 2:\n",
    "\n",
    "Input: nums = [3,2,4], target = 6\n",
    "Output: [1,2]\n",
    "Example 3:\n",
    "\n",
    "Input: nums = [3,3], target = 6\n",
    "Output: [0,1]\n",
    "'''\n",
    "from typing import List\n",
    "\n",
    "\n",
    "class Solution:\n",
    "\n",
    "    # O(n^2)\n",
    "    def naiveSolution(self, nums: List[int], target: int) -> List[int]:\n",
    "        res = []\n",
    "        for i in range(0, len(nums)):\n",
    "            for j in range(i + 1, len(nums)):\n",
    "                if nums[i] + nums[j] == target:\n",
    "                    res.append(i)\n",
    "                    res.append(j)\n",
    "                    return res\n",
    "\n",
    "        return res\n",
    "\n",
    "    # O(n)\n",
    "    def fastSolution(self, nums: List[int], target: int) -> List[int]:\n",
    "        hashMap = dict()\n",
    "        for i in range(0, len(nums) - 1):\n",
    "            hashMap.update({nums[i]: i})\n",
    "            r = target - nums[i + 1]\n",
    "            if r in hashMap:\n",
    "                return [hashMap.get(r), i + 1]\n",
    "        return []\n",
    "\n",
    "    def twoSum(self, nums: List[int], target: int) -> List[int]:\n",
    "        return self.fastSolution(nums, target)\n",
    "        #return self.naiveSolution(nums, target)\n",
    "\n",
    "\n",
    "print(Solution().twoSum([3, 5, 2, -4, 8, 11], 7))\n",
    "print(Solution().twoSum([3, 2, 4], 6))\n",
    "print(Solution().twoSum([3, 3], 6))\n",
    "\n",
    "\n",
    "# https://coderbyte.com/algorithm/two-sum-problem"
   ],
   "metadata": {
    "collapsed": false,
    "pycharm": {
     "name": "#%%\n"
    }
   }
  },
  {
   "cell_type": "code",
   "execution_count": 2,
   "outputs": [
    {
     "name": "stdout",
     "output_type": "stream",
     "text": [
      "4\n",
      "9\n",
      "0\n",
      "7\n"
     ]
    }
   ],
   "source": [
    "'''\n",
    "128. Longest Consecutive Sequence\n",
    "\n",
    "Given an unsorted array of integers nums, return the length of the longest consecutive elements sequence.\n",
    "You must write an algorithm that runs in O(n) time.\n",
    "\n",
    "Example 1:\n",
    "Input: nums = [100,4,200,1,3,2]\n",
    "Output: 4\n",
    "Explanation: The longest consecutive elements sequence is [1, 2, 3, 4]. Therefore its length is 4.\n",
    "\n",
    "Example 2:\n",
    "Input: nums = [0,3,7,2,5,8,4,6,0,1]\n",
    "Output: 9\n",
    "'''\n",
    "from typing import List\n",
    "\n",
    "\n",
    "class Solution:\n",
    "    def longestConsecutive(self, nums: List[int]) -> int:\n",
    "        set_list = set(nums)\n",
    "        # if n-1 noes not exists, calculate sequence n+1\n",
    "        res_counter = 0\n",
    "        for s in nums:\n",
    "            if (s - 1) not in set_list:\n",
    "                tmp_counter = 0\n",
    "                while (s + tmp_counter) in set_list:\n",
    "                    tmp_counter += 1\n",
    "                res_counter = max(res_counter, tmp_counter)\n",
    "        return res_counter\n",
    "\n",
    "\n",
    "print(Solution().longestConsecutive([100, 4, 200, 1, 3, 2]))\n",
    "print(Solution().longestConsecutive([0, 3, 7, 2, 5, 8, 4, 6, 0, 1]))\n",
    "print(Solution().longestConsecutive([]))\n",
    "# Expected 7\n",
    "print(Solution().longestConsecutive([9, 1, 4, 7, 3, -1, 0, 5, 8, -1, 6]))"
   ],
   "metadata": {
    "collapsed": false,
    "pycharm": {
     "name": "#%%\n"
    }
   }
  },
  {
   "cell_type": "code",
   "execution_count": 6,
   "outputs": [
    {
     "name": "stdout",
     "output_type": "stream",
     "text": [
      "0\n",
      "3\n"
     ]
    }
   ],
   "source": [
    "\"\"\"\n",
    "2011. Final Value of Variable After Performing Operations\n",
    "\n",
    "There is a programming language with only four operations and one variable X:\n",
    "\n",
    "++X and X++ increments the value of the variable X by 1.\n",
    "--X and X-- decrements the value of the variable X by 1.\n",
    "Initially, the value of X is 0.\n",
    "\n",
    "Given an array of strings operations containing a list of operations, return the final value of X after performing all the operations.\n",
    "\n",
    "Example 1:\n",
    "\n",
    "Input: operations = [\"--X\",\"X++\",\"X++\"]\n",
    "Output: 1\n",
    "Explanation: The operations are performed as follows:\n",
    "Initially, X = 0.\n",
    "--X: X is decremented by 1, X =  0 - 1 = -1.\n",
    "X++: X is incremented by 1, X = -1 + 1 =  0.\n",
    "X++: X is incremented by 1, X =  0 + 1 =  1.\n",
    "Example 2:\n",
    "\n",
    "Input: operations = [\"++X\",\"++X\",\"X++\"]\n",
    "Output: 3\n",
    "Explanation: The operations are performed as follows:\n",
    "Initially, X = 0.\n",
    "++X: X is incremented by 1, X = 0 + 1 = 1.\n",
    "++X: X is incremented by 1, X = 1 + 1 = 2.\n",
    "X++: X is incremented by 1, X = 2 + 1 = 3.\n",
    "\"\"\"\n",
    "\n",
    "\n",
    "class Solution:\n",
    "    def finalValueAfterOperations(self, operations: List[str]) -> int:\n",
    "        val = 0\n",
    "        for s in operations:\n",
    "            if s[0] == \"+\" or s[-1] == \"+\":\n",
    "                val += 1\n",
    "            else:\n",
    "                val -= 1\n",
    "        return val\n",
    "\n",
    "\n",
    "#Output: 0\n",
    "print(Solution().finalValueAfterOperations([\"X++\", \"++X\", \"--X\", \"X--\"]))\n",
    "#Output: 3\n",
    "print(Solution().finalValueAfterOperations([\"++X\", \"++X\", \"X++\"]))"
   ],
   "metadata": {
    "collapsed": false,
    "pycharm": {
     "name": "#%%\n"
    }
   }
  },
  {
   "cell_type": "code",
   "execution_count": 47,
   "outputs": [
    {
     "name": "stdout",
     "output_type": "stream",
     "text": [
      "2 4 5\n",
      "1 2 4\n",
      "2\n",
      "1 3 5\n",
      "0 2 4\n",
      "2\n"
     ]
    }
   ],
   "source": [
    "\"\"\"\n",
    "2367. Number of Arithmetic Triplets\n",
    "\n",
    "You are given a 0-indexed, strictly increasing integer array nums and a positive integer diff. A triplet (i, j, k) is an arithmetic triplet if the following conditions are met:\n",
    "\n",
    "i < j < k,\n",
    "nums[j] - nums[i] == diff, and\n",
    "nums[k] - nums[j] == diff.\n",
    "Return the number of unique arithmetic triplets.\n",
    "\n",
    "Example 1:\n",
    "Input: nums = [0,1,4,6,7,10], diff = 3\n",
    "Output: 2\n",
    "Explanation:\n",
    "(1, 2, 4) is an arithmetic triplet because both 7 - 4 == 3 and 4 - 1 == 3.\n",
    "(2, 4, 5) is an arithmetic triplet because both 10 - 7 == 3 and 7 - 4 == 3.\n",
    "\n",
    "Example 2:\n",
    "Input: nums = [4,5,6,7,8,9], diff = 2\n",
    "Output: 2\n",
    "Explanation:\n",
    "(0, 2, 4) is an arithmetic triplet because both 8 - 6 == 2 and 6 - 4 == 2.\n",
    "(1, 3, 5) is an arithmetic triplet because both 9 - 7 == 2 and 7 - 5 == 2.\n",
    "\"\"\"\n",
    "\n",
    "\n",
    "class Solution:\n",
    "\n",
    "    #O(n^3)\n",
    "    def arithmeticTripletsNaive(self, nums: List[int], diff: int) -> int:\n",
    "        res = 0\n",
    "\n",
    "        for i in range(len(nums) - 1, -1, -1):\n",
    "            for j in range(i - 1, -1, -1):\n",
    "                if nums[i] - nums[j] == diff:\n",
    "                    for k in range(j - 1, -1, -1):\n",
    "                        if nums[j] - nums[k] == diff:\n",
    "                            res += 1\n",
    "                            print(k, j, i)\n",
    "        return res\n",
    "\n",
    "    #O(n^2) ?\n",
    "    def arithmeticTripletsImproved(self, nums: List[int], diff: int) -> int:\n",
    "        return 0\n",
    "        #go left side\n",
    "\n",
    "    def arithmeticTriplets(self, nums: List[int], diff: int) -> int:\n",
    "        return self.arithmeticTripletsNaive(nums, diff)\n",
    "\n",
    "\n",
    "#Output: 2\n",
    "print(Solution().arithmeticTriplets([0, 1, 4, 6, 7, 10], 3))\n",
    "#Output: 2\n",
    "print(Solution().arithmeticTriplets([4, 5, 6, 7, 8, 9], 2))"
   ],
   "metadata": {
    "collapsed": false,
    "pycharm": {
     "name": "#%%\n"
    }
   }
  }
 ],
 "metadata": {
  "kernelspec": {
   "display_name": "Python 3",
   "language": "python",
   "name": "python3"
  },
  "language_info": {
   "codemirror_mode": {
    "name": "ipython",
    "version": 2
   },
   "file_extension": ".py",
   "mimetype": "text/x-python",
   "name": "python",
   "nbconvert_exporter": "python",
   "pygments_lexer": "ipython2",
   "version": "2.7.6"
  }
 },
 "nbformat": 4,
 "nbformat_minor": 0
}