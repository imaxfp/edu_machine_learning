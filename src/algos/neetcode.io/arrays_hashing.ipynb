{
 "cells": [
  {
   "cell_type": "code",
   "execution_count": 9,
   "metadata": {
    "collapsed": true
   },
   "outputs": [
    {
     "name": "stdout",
     "output_type": "stream",
     "text": [
      "True\n"
     ]
    }
   ],
   "source": [
    "\"\"\"\n",
    "217. Contains Duplicate\n",
    "\n",
    "Given an integer array nums, return true if any value appears at least twice in the array, and return false if every element is distinct.\n",
    "\n",
    "Example 1:\n",
    "\n",
    "Input: nums = [1,2,3,1]\n",
    "Output: true\n",
    "Example 2:\n",
    "\n",
    "Input: nums = [1,2,3,4]\n",
    "Output: false\n",
    "Example 3:\n",
    "\n",
    "Input: nums = [1,1,1,3,3,4,3,2,4,2]\n",
    "Output: true\n",
    "\"\"\"\n",
    "\n",
    "from typing import List\n",
    "\n",
    "\n",
    "class Solution:\n",
    "    def containsDuplicate(self, nums: List[int]) -> bool:\n",
    "        hashset = set()\n",
    "        for i in nums:\n",
    "            if i in hashset:\n",
    "                return True\n",
    "            hashset.add(i)\n",
    "        return False\n",
    "\n",
    "\n",
    "print(Solution().containsDuplicate([1, 2, 3, 1]))"
   ]
  },
  {
   "cell_type": "code",
   "execution_count": 11,
   "outputs": [
    {
     "name": "stdout",
     "output_type": "stream",
     "text": [
      "True\n",
      "False\n"
     ]
    }
   ],
   "source": [
    "\"\"\"\n",
    "242. Valid Anagram O(n*m)\n",
    "Given two strings s and t, return true if t is an anagram of s, and false otherwise.\n",
    "\n",
    "An Anagram is a word or phrase formed by rearranging the letters of a different word or phrase, typically using all the original letters exactly once.\n",
    "\n",
    "\n",
    "Example 1:\n",
    "\n",
    "Input: s = \"anagram\", t = \"nagaram\"\n",
    "Output: true\n",
    "Example 2:\n",
    "\n",
    "Input: s = \"rat\", t = \"car\"\n",
    "Output: false\n",
    "\"\"\"\n",
    "\n",
    "\n",
    "class Solution:\n",
    "    def isAnagram(self, s: str, t: str) -> bool:\n",
    "\n",
    "        for i in s:\n",
    "            is_letter_exists = False\n",
    "            for j in t:\n",
    "                if j == i:\n",
    "                    is_letter_exists = True\n",
    "                    break\n",
    "            if not is_letter_exists:\n",
    "                return False\n",
    "\n",
    "        return True\n",
    "\n",
    "\n",
    "print(Solution().isAnagram(\"anagram\", \"nagaram\"))\n",
    "print(Solution().isAnagram(\"rat\", \"car\"))"
   ],
   "metadata": {
    "collapsed": false,
    "pycharm": {
     "name": "#%%\n"
    }
   }
  },
  {
   "cell_type": "code",
   "execution_count": 14,
   "outputs": [
    {
     "name": "stdout",
     "output_type": "stream",
     "text": [
      "True\n",
      "False\n",
      "False\n"
     ]
    }
   ],
   "source": [
    "\"\"\"\n",
    "242. Valid Anagram - Hashing approach\n",
    "Given two strings s and t, return true if t is an anagram of s, and false otherwise.\n",
    "\n",
    "An Anagram is a word or phrase formed by rearranging the letters of a different word or phrase, typically using all the original letters exactly once.\n",
    "\n",
    "\n",
    "Example 1:\n",
    "\n",
    "Input: s = \"anagram\", t = \"nagaram\"\n",
    "Output: true\n",
    "Example 2:\n",
    "\n",
    "Input: s = \"rat\", t = \"car\"\n",
    "Output: false\n",
    "\"\"\"\n",
    "\n",
    "\n",
    "class Solution:\n",
    "    def isAnagram(self, s: str, t: str) -> bool:\n",
    "        items_s = dict()\n",
    "        items_t = dict()\n",
    "\n",
    "        for ls in s:\n",
    "            items_s.update({ls: items_s.get(ls, 0) + 1})\n",
    "\n",
    "        for lt in t:\n",
    "            items_t.update({lt: items_t.get(lt, 0) + 1})\n",
    "\n",
    "        for k in items_s.keys():\n",
    "            if items_s.get(k) != items_t.get(k):\n",
    "                return False\n",
    "\n",
    "        return len(items_s.values()) == len(items_t.values())\n",
    "\n",
    "\n",
    "print(Solution().isAnagram(\"anagram\", \"nagaram\"))\n",
    "print(Solution().isAnagram(\"rat\", \"car\"))\n",
    "print(Solution().isAnagram(\"a\", \"ab\"))"
   ],
   "metadata": {
    "collapsed": false,
    "pycharm": {
     "name": "#%%\n"
    }
   }
  },
  {
   "cell_type": "code",
   "execution_count": 40,
   "outputs": [
    {
     "name": "stdout",
     "output_type": "stream",
     "text": [
      "[1, 2]\n",
      "[1, 2]\n",
      "[0, 1]\n"
     ]
    }
   ],
   "source": [
    "'''\n",
    "1. Two Sum\n",
    "\n",
    "Given an array of integers nums and an integer target, return indices of the two numbers such that they add up to target.\n",
    "\n",
    "You may assume that each input would have exactly one solution, and you may not use the same element twice.\n",
    "\n",
    "You can return the answer in any order.\n",
    "\n",
    "Example 1:\n",
    "\n",
    "Input: nums = [2,7,11,15], target = 9\n",
    "Output: [0,1]\n",
    "Explanation: Because nums[0] + nums[1] == 9, we return [0, 1].\n",
    "Example 2:\n",
    "\n",
    "Input: nums = [3,2,4], target = 6\n",
    "Output: [1,2]\n",
    "Example 3:\n",
    "\n",
    "Input: nums = [3,3], target = 6\n",
    "Output: [0,1]\n",
    "'''\n",
    "from typing import List\n",
    "\n",
    "\n",
    "class Solution:\n",
    "\n",
    "    # O(n^2)\n",
    "    def naiveSolution(self, nums: List[int], target: int) -> List[int]:\n",
    "        res = []\n",
    "        for i in range(0, len(nums)):\n",
    "            for j in range(i + 1, len(nums)):\n",
    "                if nums[i] + nums[j] == target:\n",
    "                    res.append(i)\n",
    "                    res.append(j)\n",
    "                    return res\n",
    "\n",
    "        return res\n",
    "\n",
    "    # O(n)\n",
    "    def fastSolution(self, nums: List[int], target: int) -> List[int]:\n",
    "        hashMap = dict()\n",
    "        for i in range(0, len(nums)-1):\n",
    "            hashMap.update({nums[i]: i})\n",
    "            r = target - nums[i+1]\n",
    "            if r in hashMap:\n",
    "                return [hashMap.get(r), i+1]\n",
    "        return []\n",
    "\n",
    "    def twoSum(self, nums: List[int], target: int) -> List[int]:\n",
    "        return self.fastSolution(nums, target)\n",
    "        #return self.naiveSolution(nums, target)\n",
    "\n",
    "\n",
    "print(Solution().twoSum([3, 5, 2, -4, 8, 11], 7))\n",
    "print(Solution().twoSum([3, 2, 4], 6))\n",
    "print(Solution().twoSum([3,3], 6))\n",
    "\n",
    "\n",
    "# https://coderbyte.com/algorithm/two-sum-problem\n",
    "\n"
   ],
   "metadata": {
    "collapsed": false,
    "pycharm": {
     "name": "#%%\n"
    }
   }
  }
 ],
 "metadata": {
  "kernelspec": {
   "display_name": "Python 3",
   "language": "python",
   "name": "python3"
  },
  "language_info": {
   "codemirror_mode": {
    "name": "ipython",
    "version": 2
   },
   "file_extension": ".py",
   "mimetype": "text/x-python",
   "name": "python",
   "nbconvert_exporter": "python",
   "pygments_lexer": "ipython2",
   "version": "2.7.6"
  }
 },
 "nbformat": 4,
 "nbformat_minor": 0
}