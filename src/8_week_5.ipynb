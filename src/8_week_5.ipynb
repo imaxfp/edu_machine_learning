{
 "cells": [
  {
   "cell_type": "markdown",
   "source": [
    "#### Cost function for the NN\n",
    "1. Learning algorithm for fitting the parameters of a neural network given a training set.\n",
    "\n",
    "#### Backpropagation Algorithm\n",
    "\"Backpropagation\" is neural-network terminology for minimizing our cost function, just like what we were doing with gradient descent in logistic and linear regression. We want to minimize our cost function J using an optimal set of parameters in 'theta'.\n",
    "\n",
    "<br>\n",
    "<img src=\"../img/nn/numerical_estimate_gradient.png\" width=\"500\"/>\n",
    "\n",
    "#### Random Initialization of 'theta'"
   ],
   "metadata": {
    "collapsed": false,
    "pycharm": {
     "name": "#%% md\n"
    }
   }
  },
  {
   "cell_type": "markdown",
   "source": [
    "#### Combine all peaces togather, implement a neural network learning algorithm\n",
    "1. Pick some network architecture and by architecture I just mean connectivity pattern between the neurons.\n",
    "2. Choices of how many hidden units in each layer and how many hidden layers, those are architecture choices. For example with three input units and five hidden units and four output units versus one of 3, 5 hidden, etc...\n",
    "\n",
    "<br>\n",
    "<img src=\"../img/nn/connectivety_pattern.png\" width=\"500\"/>\n",
    "\n",
    "#### How to choose network architecture\n",
    "1. First, the number of input units well that's pretty well defined. And once you decides on the fix set of features x the number of input units will just be, you know, the dimension of your features x(i) would be determined by that.\n",
    "2. If you are doing multiclass classifications the number of output of this will be determined by the number of classes in your classification problem. And just a reminder if you have a multiclass classification where y takes on say values between.\n",
    "3. If you have a multiclass classification where y takes on say values between 1 and 10 you have 10 possible classes.\n",
    "4. Number of hidden units and the number of hidden layers, a reasonable default is to use a single hidden layer and so this type of neural network shown on the left with just one hidden layer is probably the most common.\n",
    "5. Usually the number of hidden units in each layer will be maybe comparable to the dimension of x, comparable to the number of features."
   ],
   "metadata": {
    "collapsed": false,
    "pycharm": {
     "name": "#%% md\n"
    }
   }
  },
  {
   "cell_type": "markdown",
   "source": [
    "#### 6 steps what we need to implement in order to trade in neural network\n",
    "\n",
    "1. Set up the neural network and to randomly initialize the values of the weights. And we usually initialize the weights to small values near zero.\n",
    "2. Implement forward propagation so that we can input any excellent neural network and compute h of x which is this output vector of the y values.\n",
    "3. Implement code to compute this cost function j of theta.\n",
    "4. Implement back-prop, or the back-propagation algorithm, to compute these partial derivatives terms, partial derivatives of j of theta with respect to the parameters.\n",
    "5. use gradient checking to compare these partial derivative terms that were computed. So, I've compared the versions computed using back propagation versus the partial derivatives computed using the numerical estimates as using numerical estimates of the derivatives. So, I do gradient checking to make sure that both of these give you very similar values.\n",
    "6. Use an optimization algorithm such as gradient descent, or one of the advanced optimization methods such as LB of GS, contract gradient has embodied into fminunc or other optimization methods. (optimization methods to try to minimize j of theta as a function of the parameters theta)\n",
    "\n",
    "///!!! CODE HERE !!!\n",
    "\n",
    "\n"
   ],
   "metadata": {
    "collapsed": false
   }
  }
 ],
 "metadata": {
  "kernelspec": {
   "display_name": "Python 3",
   "language": "python",
   "name": "python3"
  },
  "language_info": {
   "codemirror_mode": {
    "name": "ipython",
    "version": 2
   },
   "file_extension": ".py",
   "mimetype": "text/x-python",
   "name": "python",
   "nbconvert_exporter": "python",
   "pygments_lexer": "ipython2",
   "version": "2.7.6"
  }
 },
 "nbformat": 4,
 "nbformat_minor": 0
}