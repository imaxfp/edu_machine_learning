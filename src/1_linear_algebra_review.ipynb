{
 "cells": [
  {
   "cell_type": "markdown",
   "source": [
    "## Before we move forward, let's refresh basic linear algebra concepts and operations:\n",
    "\n",
    "<img src=\"../img/linear_algebra/scalar_vector_matrix.png\" width=\"750\"/>\n",
    "\n",
    "### Scalar\n",
    "Scalars are mathematical entities which have only a magnitude (and no direction). Physical examples include mass and energy.\n",
    "\n",
    "### Vector\n",
    "**Definition**: A vector is a list of numbers. There are (at least) two ways to interpret what this list of numbers mean:\n",
    "\n",
    "**One way:**\n",
    "Think of the vector as being a point in a space. Then this list of numbers is a way of identifying that point in space, where each number represents the vector’s component that dimension.\n",
    "\n",
    "**Another way:**\n",
    "Think of a vector is a **magnitude** and a **direction**, e.g. a quantity like velocity (“the fighter jet’s velocity is 250 mph north-by-northwest”). In this way of think of it, a vector is a **directed arrow pointing** from the origin to the end point given by the list of numbers.\n",
    "\n",
    "**Example:**\n",
    "$a^{->} = [4, 3]$. Graphically, you can think of this vector as an arrow in the x-y (two dimensional space) plane, pointing from the origin to the point at x=3, y=4\n",
    "\n",
    "<img src=\"../img/linear_algebra/vector_visual_representation.png\" width=\"350\"/>\n",
    "\n",
    "**Vector and scalar operations:**\n",
    "\n",
    "All binary operations between a vector and a scalar are accomplished by operating on each entry in the vector individually. The following shows vector-scalar addition as well as vector-scalar multiplication:\n",
    "\n",
    "Addition:\n",
    "$ \\begin{align}\n",
    "    -3 +\n",
    "        \\begin{bmatrix}\n",
    "           {1} \\\\\n",
    "           {5} \\\\\n",
    "           {0}\n",
    "         \\end{bmatrix}\n",
    "         =\n",
    "         \\begin{bmatrix}\n",
    "           {-2} \\\\\n",
    "           {-2} \\\\\n",
    "           {-3}\n",
    "         \\end{bmatrix}\n",
    "  \\end{align}$\n",
    "\n",
    "Multiplication:\n",
    "$ \\begin{align}\n",
    "    -3 \\cdot\n",
    "        \\begin{bmatrix}\n",
    "           {1} \\\\\n",
    "           {5} \\\\\n",
    "           {0}\n",
    "         \\end{bmatrix}\n",
    "         =\n",
    "         \\begin{bmatrix}\n",
    "           {-3} \\\\\n",
    "           {-15} \\\\\n",
    "           {0}\n",
    "         \\end{bmatrix}\n",
    "  \\end{align}$\n",
    "\n",
    "### Scalar multiplication\n",
    "The term scalar multiplication refers to the product of a real number and a matrix. In scalar multiplication, each entry in the matrix is multiplied by the given scalar.\n",
    "<img src=\"../img/linear_algebra/matrices_and_scalar_multiplication.png\" width=\"250\"/>"
   ],
   "metadata": {
    "collapsed": false,
    "pycharm": {
     "name": "#%% md\n"
    }
   }
  },
  {
   "cell_type": "code",
   "execution_count": 5,
   "outputs": [
    {
     "name": "stdout",
     "output_type": "stream",
     "text": [
      "[2, 10, 0]\n"
     ]
    }
   ],
   "source": [
    "# Scalar to vector multiplication\n",
    "scalar = 2\n",
    "vector = [1, 5, 0]\n",
    "print(list(map(lambda s: s * scalar, vector)))"
   ],
   "metadata": {
    "collapsed": false,
    "pycharm": {
     "name": "#%%\n"
    }
   }
  },
  {
   "cell_type": "code",
   "execution_count": 6,
   "outputs": [
    {
     "name": "stdout",
     "output_type": "stream",
     "text": [
      "[[10  4]\n",
      " [ 6  2]]\n"
     ]
    }
   ],
   "source": [
    "# Scalar to matrix multiplication\n",
    "import numpy as np\n",
    "\n",
    "scalar = 2\n",
    "m = [[5, 2],\n",
    "     [3, 1]]\n",
    "\n",
    "matrix_res = np.zeros((len(m), len(m)), dtype=int)\n",
    "\n",
    "for i in range(len(m)):\n",
    "    for j in range(len(m)):\n",
    "        matrix_res[i][j] = scalar * m[i][j]\n",
    "print(matrix_res)"
   ],
   "metadata": {
    "collapsed": false,
    "pycharm": {
     "name": "#%%\n"
    }
   }
  },
  {
   "cell_type": "markdown",
   "source": [
    "### Matrices addition\n",
    "A matrix, like a vector, is also a collection of numbers. The difference is that a matrix is a table of numbers rather than a list. (In fact, you can think of vectors as matrices that happen to only have one column or one row.)\n",
    "\n",
    "**Matrix addition and subtraction:**\n",
    "<img src=\"../img/linear_algebra/matrices_addition_substraction.png\" width=\"250\"/>\n",
    "\n",
    "[Check your understanding](https://www.khanacademy.org/math/precalculus/x9e81a4f98389efdf:matrices/x9e81a4f98389efdf:adding-and-subtracting-matrices/a/adding-and-subtracting-matrices)"
   ],
   "metadata": {
    "collapsed": false
   }
  },
  {
   "cell_type": "code",
   "execution_count": 7,
   "outputs": [
    {
     "name": "stdout",
     "output_type": "stream",
     "text": [
      " 4 + 1 = 5\n",
      " 8 + 0 = 8\n",
      " 3 + 5 = 8\n",
      " 7 + 2 = 9\n",
      "[[5 8]\n",
      " [8 9]]\n"
     ]
    }
   ],
   "source": [
    "# Addition matrices\n",
    "def matrices_addition(m1, m2):\n",
    "    matrix_res = np.zeros((len(m1), len(m2)), dtype=int)\n",
    "    for row in range(len(m2)):\n",
    "        for col in range(len(m2)):\n",
    "            matrix_res[row][col] = m1[row][col] + m2[row][col]\n",
    "            print(\" %i + %i = %i\" % (m1[row][col], m2[row][col], m1[row][col] + m2[row][col]))\n",
    "    return matrix_res\n",
    "\n",
    "\n",
    "a = [[4, 8],\n",
    "     [3, 7]]\n",
    "\n",
    "b = [[1, 0],\n",
    "     [5, 2]]\n",
    "\n",
    "print(matrices_addition(a, b))"
   ],
   "metadata": {
    "collapsed": false,
    "pycharm": {
     "name": "#%%\n"
    }
   }
  },
  {
   "cell_type": "markdown",
   "source": [
    "### Matrix and vector multiplication, widely use in regression implementation\n",
    "\n",
    "A Matrix and a vector can be multiplied only if the number of columns of the matrix and the the dimension of the vector have **the same size.**\n",
    "\n",
    "<img src=\"../img/linear_algebra/matrix_vector_product.png\" width=\"500\"/>"
   ],
   "metadata": {
    "collapsed": false
   }
  },
  {
   "cell_type": "code",
   "execution_count": 8,
   "outputs": [
    {
     "name": "stdout",
     "output_type": "stream",
     "text": [
      "[[ 5]\n",
      " [11]\n",
      " [17]]\n"
     ]
    }
   ],
   "source": [
    "# Matrix to vector multiplication\n",
    "def matrix_vector_multiplication(m, vector):\n",
    "    vector_res = np.zeros((len(m), 1), dtype=int)\n",
    "    for i in range(3):\n",
    "        for j in range(2):\n",
    "            vector_res[i][0] += m[i][j] * vector[j][0]\n",
    "    return vector_res\n",
    "\n",
    "\n",
    "m = [[1, 2],\n",
    "     [3, 4],\n",
    "     [5, 6]]\n",
    "\n",
    "vector = [[1],\n",
    "          [2]]\n",
    "\n",
    "print(matrix_vector_multiplication(m, vector))"
   ],
   "metadata": {
    "collapsed": false,
    "pycharm": {
     "name": "#%%\n"
    }
   }
  },
  {
   "cell_type": "markdown",
   "source": [
    "### Matrices multiplication\n",
    "refers to the product of two matrices. The resulting matrix, known as the matrix product, has the number of rows of the first and the number of columns of the second matrix. The product of matrices A and B is denoted as AB.\n",
    "\n",
    "<img src=\"../img/linear_algebra/matrices_multiplication.png\" width=\"450\"/>\n",
    "\n",
    "\n",
    "[Check your understanding with matrices](https://www.khanacademy.org/math/precalculus/x9e81a4f98389efdf:matrices/x9e81a4f98389efdf:multiplying-matrices-by-matrices/a/multiplying-matrices)"
   ],
   "metadata": {
    "collapsed": false
   }
  },
  {
   "cell_type": "code",
   "execution_count": null,
   "outputs": [],
   "source": [
    "# Multiply each element of row matrix 1 to the each element of the column matrix 2.\n",
    "# check yourself https://keisan.casio.com\n",
    "def matrices_multiplication(m1, m2):\n",
    "    matrix_res = np.zeros((len(m1), len(m2)), dtype=int)\n",
    "\n",
    "    for i in range(len(m1)):\n",
    "        for col in range(len(m2)):\n",
    "            for row in range(len(m2)):\n",
    "                matrix_res[i][col] += m1[i][row] * m2[row][col]\n",
    "                print(\" %i * %i = %i\" % (m1[i][row], m2[row][col], m1[i][row] * m2[row][col]))\n",
    "    return matrix_res\n",
    "\n",
    "\n",
    "a = [[1, 2],\n",
    "     [3, 4]]\n",
    "\n",
    "b = [[5, 6],\n",
    "     [7, 8]]\n",
    "\n",
    "print(matrices_multiplication(a, b))"
   ],
   "metadata": {
    "collapsed": false,
    "pycharm": {
     "name": "#%%\n"
    }
   }
  }
 ],
 "metadata": {
  "kernelspec": {
   "display_name": "Python 3",
   "language": "python",
   "name": "python3"
  },
  "language_info": {
   "codemirror_mode": {
    "name": "ipython",
    "version": 2
   },
   "file_extension": ".py",
   "mimetype": "text/x-python",
   "name": "python",
   "nbconvert_exporter": "python",
   "pygments_lexer": "ipython2",
   "version": "2.7.6"
  }
 },
 "nbformat": 4,
 "nbformat_minor": 0
}