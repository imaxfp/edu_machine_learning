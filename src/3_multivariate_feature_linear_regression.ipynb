{
 "cells": [
  {
   "cell_type": "markdown",
   "source": [
    "### Cost function detailed explained:\n",
    "\n",
    "<img src=\"../img/1_multiple_feature/multiple_features_basic.png\" width=\"600\"/>\n",
    "<br>\n",
    "<img src=\"../img/1_multiple_feature/multiple_features_hypothesis.png\" width=\"600\"/>\n",
    "<br>\n",
    "Vectors multiplication\n",
    "<br>\n",
    "<img src=\"../img/1_multiple_feature/multivariate_reg_implementation.png\" width=\"600\"/>"
   ],
   "metadata": {
    "collapsed": false,
    "pycharm": {
     "name": "#%% md\n"
    }
   }
  },
  {
   "cell_type": "code",
   "execution_count": null,
   "outputs": [],
   "source": [],
   "metadata": {
    "collapsed": false,
    "pycharm": {
     "name": "#%%\n"
    }
   }
  },
  {
   "cell_type": "markdown",
   "source": [
    "### Gradient Descent for Multiple Variables\n",
    "\n",
    "<br>\n",
    "<img src=\"../img/1_multiple_feature/multifeature_gradient.png\" width=\"600\"/>"
   ],
   "metadata": {
    "collapsed": false
   }
  },
  {
   "cell_type": "code",
   "execution_count": null,
   "outputs": [],
   "source": [],
   "metadata": {
    "collapsed": false,
    "pycharm": {
     "name": "#%%\n"
    }
   }
  },
  {
   "cell_type": "markdown",
   "source": [
    "#### Feature Scaling\n",
    "\n",
    "<br>\n",
    "<img src=\"../img/1_multiple_feature/feature_scaling.png\" width=\"600\"/>\n",
    "\n",
    "#### Example:\n",
    "In your training set, all of your houses have an age between 30 and 50 years, with an average age of 38 years. Which of the following would you use as features, assuming you use feature scaling and mean normalization?\n",
    "\n",
    "<br>\n",
    "<img src=\"../img/1_multiple_feature/feature_scaling_example.png\" width=\"300\"/>"
   ],
   "metadata": {
    "collapsed": false,
    "pycharm": {
     "name": "#%% md\n"
    }
   }
  },
  {
   "cell_type": "code",
   "execution_count": 10,
   "outputs": [
    {
     "name": "stdout",
     "output_type": "stream",
     "text": [
      "-0.43333333333333324\n",
      "0.06666666666666679\n",
      "0.5666666666666668\n"
     ]
    }
   ],
   "source": [
    "houses_age = [30, 31, 44, 32, 36, 37, 42, 46, 50]\n",
    "\n",
    "\n",
    "def feature_scaling(age):\n",
    "    average_age = sum(houses_age) / len(houses_age)\n",
    "    age_range = (max(houses_age) - min(houses_age))\n",
    "\n",
    "    return (age - average_age) / age_range\n",
    "\n",
    "\n",
    "print(feature_scaling(30))\n",
    "print(feature_scaling(40))\n",
    "print(feature_scaling(50))"
   ],
   "metadata": {
    "collapsed": false,
    "pycharm": {
     "name": "#%%\n"
    }
   }
  },
  {
   "cell_type": "markdown",
   "source": [
    "#### Features and Polynomial Regression\n"
   ],
   "metadata": {
    "collapsed": false
   }
  }
 ],
 "metadata": {
  "kernelspec": {
   "display_name": "Python 3",
   "language": "python",
   "name": "python3"
  },
  "language_info": {
   "codemirror_mode": {
    "name": "ipython",
    "version": 3
   },
   "file_extension": ".py",
   "mimetype": "text/x-python",
   "name": "python",
   "nbconvert_exporter": "python",
   "pygments_lexer": "ipython3",
   "version": "3.8.5"
  }
 },
 "nbformat": 4,
 "nbformat_minor": 1
}