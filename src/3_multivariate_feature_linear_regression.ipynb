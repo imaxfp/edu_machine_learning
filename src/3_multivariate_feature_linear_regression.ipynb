{
 "cells": [
  {
   "cell_type": "markdown",
   "source": [
    "### Cost function detailed explained:\n",
    "\n",
    "<img src=\"../img/multivariate_feature/multiple_features_basic.png\" width=\"600\"/>\n",
    "<br>\n",
    "<img src=\"../img/multivariate_feature/multiple_features_hypothesis.png\" width=\"600\"/>\n",
    "<br>\n",
    "Vectors multiplication\n",
    "<br>\n",
    "<img src=\"../img/multivariate_feature/multivariate_reg_implementation.png\" width=\"600\"/>"
   ],
   "metadata": {
    "collapsed": false,
    "pycharm": {
     "name": "#%% md\n"
    }
   }
  },
  {
   "cell_type": "markdown",
   "source": [
    "### Gradient Descent for Multiple Variables\n",
    "\n",
    "<br>\n",
    "<img src=\"../img/multivariate_feature/multifeature_gradient.png\" width=\"600\"/>"
   ],
   "metadata": {
    "collapsed": false
   }
  },
  {
   "cell_type": "markdown",
   "source": [
    "#### Feature Scaling\n",
    "\n",
    "<br>\n",
    "<img src=\"../img/multivariate_feature/feature_scaling.png\" width=\"600\"/>\n",
    "\n",
    "#### Example:\n",
    "In your training set, all of your houses have an age between 30 and 50 years, with an average age of 38 years. Which of the following would you use as features, assuming you use feature scaling and mean normalization?\n",
    "\n",
    "<br>\n",
    "<img src=\"../img/multivariate_feature/feature_scaling_example.png\" width=\"300\"/>"
   ],
   "metadata": {
    "collapsed": false,
    "pycharm": {
     "name": "#%% md\n"
    }
   }
  },
  {
   "cell_type": "code",
   "execution_count": 123,
   "outputs": [
    {
     "name": "stdout",
     "output_type": "stream",
     "text": [
      "-0.43333333333333324\n",
      "0.06666666666666679\n",
      "0.5666666666666668\n",
      "0.31\n",
      "0\n",
      "0\n",
      "0\n",
      "2\n",
      "None\n"
     ]
    }
   ],
   "source": [
    "houses_age = [30, 31, 44, 32, 36, 37, 42, 46, 50]\n",
    "midterm_exam = [7921, 5184, 8836, 4761]\n",
    "\n",
    "\n",
    "def feature_scaling(x, data):\n",
    "    x_min_max_range = (max(data) - min(data))\n",
    "    x_average = sum(data) / len(data)\n",
    "    return (x - x_average) / x_min_max_range\n",
    "\n",
    "\n",
    "print(feature_scaling(30, houses_age))\n",
    "print(feature_scaling(40, houses_age))\n",
    "print(feature_scaling(50, houses_age))\n",
    "\n",
    "print(str(round(feature_scaling(7921, midterm_exam), 2)))\n",
    "\n",
    "\n",
    "def plusOne(digits) -> int:\n",
    "    for i in range(len(digits) - 1, -1, -1):\n",
    "        if digits[i] == 9:\n",
    "            digits[i] = 0\n",
    "        else:\n",
    "            digits[i] = digits[i] + 1\n",
    "\n",
    "        print(digits[i])\n",
    "\n",
    "\n",
    "print(plusOne([1, 9, 9, 9]))"
   ],
   "metadata": {
    "collapsed": false,
    "pycharm": {
     "name": "#%%\n"
    }
   }
  },
  {
   "cell_type": "markdown",
   "source": [
    "#### Features and Polynomial Regression\n",
    "Several features can be combined into to the single feature. For example 'frontage * depth'\n",
    "<br>\n",
    "<img src=\"../img/multivariate_feature/combine_feature_area.png\" width=\"600\"/>"
   ],
   "metadata": {
    "collapsed": false,
    "pycharm": {
     "name": "#%% md\n"
    }
   }
  },
  {
   "cell_type": "markdown",
   "source": [
    "### Test\n",
    "\n",
    "Question 1\n",
    "\n",
    "Suppose m=4 students have taken some class, and the class had a midterm exam and a final exam. You have collected a dataset of their scores on the two exams, which is as follows:\n",
    "\n",
    "Midterm Exam\t(midterm exam)2\tFinal Exam\n",
    "89\t7921\t96\n",
    "72\t5184\t74\n",
    "94\t8836\t87\n",
    "69\t4761\t78\n",
    "You'd like to use polynomial regression to predict a student's final exam score from their midterm exam score. Concretely, suppose you want to fit a model of the form hθ(x)=θ0+θ1x1+θ2x2, where x1 is the midterm score and x2 is (midterm score)2. Further, you plan to use both feature scaling (dividing by the \"max-min\", or range, of a feature) and mean normalization.\n",
    "\n",
    "What is the normalized feature x2(4)? (Hint: midterm = 69, final = 78 is training example 4.) Please round off your answer to two decimal places and enter in the text box below.\n",
    "\n",
    "Answer:\n",
    "\n",
    "The mean of x2 is 6675.5 and the range is 8836 - 4761 is 4075.\n",
    "\n",
    "x2(4) = (4761 - 6675.5) / 4075 = -0.47\n",
    "\n"
   ],
   "metadata": {
    "collapsed": false
   }
  }
 ],
 "metadata": {
  "kernelspec": {
   "display_name": "Python 3",
   "language": "python",
   "name": "python3"
  },
  "language_info": {
   "codemirror_mode": {
    "name": "ipython",
    "version": 3
   },
   "file_extension": ".py",
   "mimetype": "text/x-python",
   "name": "python",
   "nbconvert_exporter": "python",
   "pygments_lexer": "ipython3",
   "version": "3.8.5"
  }
 },
 "nbformat": 4,
 "nbformat_minor": 1
}