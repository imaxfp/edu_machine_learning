{
 "cells": [
  {
   "cell_type": "markdown",
   "metadata": {
    "pycharm": {
     "name": "#%% md\n"
    }
   },
   "source": [
    "Assuming that there is a linear relationship between the size of the house and the price, it is a linear regression."
   ]
  },
  {
   "cell_type": "code",
   "execution_count": 71,
   "metadata": {
    "pycharm": {
     "name": "#%%\n"
    }
   },
   "outputs": [
    {
     "name": "stderr",
     "output_type": "stream",
     "text": [
      "2021-12-06 20:31:25.984 | INFO     | __main__:<module>:7 -    size  price\n",
      "0     1      1\n",
      "1     2      2\n",
      "2     3      3\n"
     ]
    }
   ],
   "source": [
    "import pandas as pd\n",
    "from loguru import logger\n",
    "\n",
    "data = {'size': [1, 2, 3],\n",
    "        'price': [1, 2, 3]}\n",
    "df = pd.DataFrame(data)\n",
    "logger.info(df)"
   ]
  },
  {
   "cell_type": "code",
   "metadata": {
    "pycharm": {
     "name": "#%%\n"
    }
   },
   "source": [
    "\n",
    "import seaborn as sns\n",
    "\n",
    "sns.set_theme(color_codes=True)\n",
    "sns.regplot(x=\"size\", y=\"price\", data=df);"
   ],
   "execution_count": 72,
   "outputs": [
    {
     "data": {
      "text/plain": "<Figure size 432x288 with 1 Axes>",
      "image/png": "[encoded data removed]"
     },
     "metadata": {},
     "output_type": "display_data"
    }
   ]
  },
  {
   "cell_type": "markdown",
   "source": [
    "<img src=\"../img/univariate_main_algorithm.png\" width=\"750\"/>"
   ],
   "metadata": {
    "collapsed": false,
    "pycharm": {
     "name": "#%% md\n"
    }
   }
  },
  {
   "cell_type": "markdown",
   "source": [
    "### The Hypothesis Function\n",
    "Hypothesis is a function representing the relationship between input (feature) and output (target).\n",
    "“How to express the relationship between variables and outputs with these and these functions? It is believed that they began to call it a hypothesis because it puts up a kind of hypothesis. Hypothesis can take the form of any function, but the following linear functions are often used.\n"
   ],
   "metadata": {
    "collapsed": false,
    "pycharm": {
     "name": "#%% md\n"
    }
   }
  },
  {
   "cell_type": "markdown",
   "source": [
    "<img src=\"../img/univariate_main_formulas.png\" width=\"750\"/>"
   ],
   "metadata": {
    "collapsed": false
   }
  },
  {
   "cell_type": "markdown",
   "source": [
    "<img src=\"../img/univariate_lr_hypotesis_visual.png\" width=\"550\"/>"
   ],
   "metadata": {
    "collapsed": false
   }
  },
  {
   "cell_type": "markdown",
   "source": [
    "### Cost function details explained"
   ],
   "metadata": {
    "collapsed": false
   }
  },
  {
   "cell_type": "markdown",
   "source": [
    "<img src=\"../img/univariate_lr_cost_function.png\" width=\"750\"/>\n",
    "\n",
    "\n",
    "\n"
   ],
   "metadata": {
    "collapsed": false
   }
  },
  {
   "cell_type": "code",
   "execution_count": 73,
   "outputs": [
    {
     "name": "stderr",
     "output_type": "stream",
     "text": [
      "2021-12-06 20:31:44.401 | INFO     | __main__:cost_function:10 - For theta1 = 1.00, cost function is = 0.00, hypothesis = [0, 0, 0]\n",
      "2021-12-06 20:31:44.403 | INFO     | __main__:cost_function:10 - For theta1 = 0.50, cost function is = 0.58, hypothesis = [0.25, 1.0, 2.25]\n",
      "2021-12-06 20:31:44.405 | INFO     | __main__:cost_function:10 - For theta1 = 0.00, cost function is = 2.33, hypothesis = [1, 4, 9]\n"
     ]
    }
   ],
   "source": [
    "#hypothesis implementation\n",
    "def hypothesis(theta0, theta1, x):\n",
    "    return theta0 + theta1 * x\n",
    "\n",
    "\n",
    "#Cost function formula implementation\n",
    "def cost_function(theta0, theta1, df):\n",
    "    hypo_results = list(map(lambda x, y: (hypothesis(theta0, theta1, x) - y) ** 2, df[\"size\"], df[\"price\"]))\n",
    "    cost_function_res = 1 / (2 * len(df[\"price\"])) * sum(hypo_results)\n",
    "    logger.info(\n",
    "        \"For theta1 = %.2f, cost function is = %.2f, hypothesis = %s\" % (theta1, cost_function_res, hypo_results))\n",
    "\n",
    "\n",
    "thetas1 = [1, 0.5, 0]\n",
    "\n",
    "for t1 in thetas1:\n",
    "    cost_function(0, t1, df)\n"
   ],
   "metadata": {
    "collapsed": false,
    "pycharm": {
     "name": "#%%\n"
    }
   }
  },
  {
   "cell_type": "markdown",
   "source": [
    "## Tasks - implementation with python"
   ],
   "metadata": {
    "collapsed": false,
    "pycharm": {
     "name": "#%% md\n"
    }
   }
  },
  {
   "cell_type": "markdown",
   "source": [
    "## How to use  matrix multiplication for the linear regression"
   ],
   "metadata": {
    "collapsed": false,
    "pycharm": {
     "name": "#%% md\n"
    }
   }
  },
  {
   "cell_type": "code",
   "execution_count": null,
   "outputs": [],
   "source": [],
   "metadata": {
    "collapsed": false,
    "pycharm": {
     "name": "#%%\n"
    }
   }
  }
 ],
 "metadata": {
  "kernelspec": {
   "display_name": "Python 3",
   "language": "python",
   "name": "python3"
  },
  "language_info": {
   "codemirror_mode": {
    "name": "ipython",
    "version": 3
   },
   "file_extension": ".py",
   "mimetype": "text/x-python",
   "name": "python",
   "nbconvert_exporter": "python",
   "pygments_lexer": "ipython3",
   "version": "3.8.5"
  }
 },
 "nbformat": 4,
 "nbformat_minor": 1
}