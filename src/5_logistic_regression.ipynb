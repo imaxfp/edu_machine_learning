{
 "cells": [
  {
   "cell_type": "code",
   "execution_count": 1,
   "outputs": [
    {
     "name": "stdout",
     "output_type": "stream",
     "text": [
      "0.7310585786300049\n",
      "1.0\n",
      "0.5000000025\n",
      "1.0\n"
     ]
    },
    {
     "data": {
      "text/plain": "<Figure size 432x288 with 1 Axes>",
      "image/png": "[encoded data removed]"
     },
     "metadata": {
      "needs_background": "light"
     },
     "output_type": "display_data"
    }
   ],
   "source": [
    "import numpy as np\n",
    "import matplotlib.pyplot as plt\n",
    "\n",
    "\n",
    "def sigmoid(z):\n",
    "    return 1.0 / (1 + np.exp(-z))\n",
    "\n",
    "\n",
    "print(sigmoid(1))\n",
    "print(sigmoid(99999))\n",
    "print(sigmoid(0.00000001))\n",
    "print(sigmoid(5184))\n",
    "\n",
    "x = np.linspace(-10, 10, 100)\n",
    "z = list(map(lambda x: sigmoid(x), x))\n",
    "\n",
    "plt.plot(x, z)\n",
    "plt.xlabel(\"x\")\n",
    "plt.ylabel(\"Sigmoid(X)\")\n",
    "\n",
    "plt.show()"
   ],
   "metadata": {
    "collapsed": false,
    "pycharm": {
     "name": "#%%\n"
    }
   }
  },
  {
   "cell_type": "markdown",
   "source": [
    "### Decision boundary\n",
    "\n",
    "Linear Regression can be used for classification problems\n",
    "if h0(x) >= 0.5, predict 'yes'\n",
    "if h0(x) < 0.5, predict 'no'\n",
    "However, this method doesn't work well because classification is not actually a linear function."
   ],
   "metadata": {
    "collapsed": false
   }
  },
  {
   "cell_type": "markdown",
   "source": [
    "Linear Decision Boundary\n",
    "<br>\n",
    "\n",
    "<img src=\"../img/log_reg/lenear_decision_boundry.png\" width=\"500\"/>\n",
    "\n",
    "Theta parameters \"θ1, θ2, θ3\" should be selected for the better result of decision boundary line.\n",
    "\n",
    "Non-linear Decision Boundary"
   ],
   "metadata": {
    "collapsed": false,
    "pycharm": {
     "name": "#%% md\n"
    }
   }
  },
  {
   "cell_type": "markdown",
   "source": [
    "### Making predictions\n",
    "Using our knowledge of sigmoid functions and decision boundaries, we can now write a prediction function."
   ],
   "metadata": {
    "collapsed": false
   }
  },
  {
   "cell_type": "markdown",
   "source": [
    "### The loss function (also known as a cost function)\n",
    "We can’t (or at least shouldn’t) use the same cost function MSE (L2) as we did for linear regression.\n",
    "Instead of Mean Squared Error, we use a cost function called ***Cross-Entropy*** also known as ***Log Loss.***\n",
    "Cross-entropy loss can be divided into two separate cost functions: one for y=1 and one for y=0.\n",
    "\n",
    "\n",
    "<br>\n",
    "<img src=\"../img/log_reg/cost_fun_2_log_reg.png\" width=\"500\"/>\n",
    "\n",
    "overfitting_problems.png\n",
    "<br>\n",
    "<img src=\"../img/log_reg/cost_fun_3_log_reg.png\" width=\"500\"/>\n",
    "<br>\n",
    "<img src=\"../img/log_reg/log_reg_cost_fun.png\" width=\"500\"/>\n",
    "\n",
    "Above functions compressed into one. The main aim is minimization 'J' of theta.\n",
    "<img src=\"../img/log_reg/fun_compressed_into_one.png\" width=\"500\"/>\n",
    "<br>\n",
    "Vectorized cost function\n",
    "<img src=\"../img/log_reg/vectorized_cost_function.png\" width=\"500\"/>\n"
   ],
   "metadata": {
    "collapsed": false,
    "pycharm": {
     "name": "#%% md\n"
    }
   }
  },
  {
   "cell_type": "code",
   "execution_count": 2,
   "outputs": [],
   "source": [
    "def predict(features, weights):\n",
    "    '''\n",
    "    Returns 1D array of probabilities\n",
    "    that the class label == 1\n",
    "    '''\n",
    "    z = np.dot(features, weights)\n",
    "    return sigmoid(z)\n",
    "\n",
    "\n",
    "def cost_function(features, labels, weights):\n",
    "    '''\n",
    "    Using Mean Absolute Error\n",
    "\n",
    "    Features:(100,3)\n",
    "    Labels: (100,1)\n",
    "    Weights:(3,1)\n",
    "    Returns 1D matrix of predictions\n",
    "    Cost = (labels*log(predictions) + (1-labels)*log(1-predictions) ) / len(labels)\n",
    "    '''\n",
    "    observations = len(labels)\n",
    "\n",
    "    predictions = predict(features, weights)\n",
    "\n",
    "    #Take the error when label=1\n",
    "    class1_cost = -labels * np.log(predictions)\n",
    "\n",
    "    #Take the error when label=0\n",
    "    class2_cost = (1 - labels) * np.log(1 - predictions)\n",
    "\n",
    "    #Take the sum of both costs\n",
    "    cost = class1_cost - class2_cost\n",
    "\n",
    "    #Take the average cost\n",
    "    cost = cost.sum() / observations\n",
    "\n",
    "    return cost"
   ],
   "metadata": {
    "collapsed": false,
    "pycharm": {
     "name": "#%%\n"
    }
   }
  },
  {
   "cell_type": "markdown",
   "source": [
    "#### Gradient descent\n",
    "Optimization algorithm used to minimize some function by iteratively moving in the direction of steepest descent as defined by the negative of the gradient. In machine learning, we use gradient descent to update the parameters of our model.\n",
    "\n",
    "Which leads to an equally beautiful and convenient cost function derivative:\n",
    "\n",
    "C'=x(s(z)-y)\n",
    "\n",
    "1. C' is the derivative of cost with respect to weights\n",
    "2. y is the actual class label (0 or 1)\n",
    "3. s(z) is your model’s prediction\n",
    "4. x is your feature or feature vector.\n",
    "\n",
    "\n",
    "##### Pseudocode\n",
    "Repeat {\n",
    "  1. Calculate gradient average\n",
    "  2. Multiply by learning rate\n",
    "  3. Subtract from weights\n",
    "}\n",
    "\n",
    "<br>\n",
    "<img src=\"../img/log_reg/vectorized_cost_details.png\" width=\"500\"/>"
   ],
   "metadata": {
    "collapsed": false
   }
  },
  {
   "cell_type": "code",
   "execution_count": 3,
   "outputs": [],
   "source": [
    "def predict(features, weights):\n",
    "    '''\n",
    "    Returns 1D array of probabilities\n",
    "    that the class label == 1\n",
    "    '''\n",
    "    z = np.dot(features, weights)\n",
    "    return sigmoid(z)\n",
    "\n",
    "\n",
    "def update_weights(features, labels, weights, lr):\n",
    "    '''\n",
    "    Vectorized Gradient Descent\n",
    "\n",
    "    Features:(200, 3)\n",
    "    Labels: (200, 1)\n",
    "    Weights:(3, 1)\n",
    "    '''\n",
    "    N = len(features)\n",
    "\n",
    "    #1 - Get Predictions\n",
    "    predictions = predict(features, weights)\n",
    "\n",
    "    #2 Transpose features from (200, 3) to (3, 200)\n",
    "    # So we can multiply w the (200,1)  cost matrix.\n",
    "    # Returns a (3,1) matrix holding 3 partial derivatives --\n",
    "    # one for each feature -- representing the aggregate\n",
    "    # slope of the cost function across all observations\n",
    "    gradient = np.dot(features.T, predictions - labels)\n",
    "\n",
    "    #3 Take the average cost derivative for each feature\n",
    "    gradient /= N\n",
    "\n",
    "    #4 - Multiply the gradient by our learning rate\n",
    "    gradient *= lr\n",
    "\n",
    "    #5 - Subtract from our weights to minimize cost\n",
    "    weights -= gradient\n",
    "\n",
    "    return weights"
   ],
   "metadata": {
    "collapsed": false,
    "pycharm": {
     "name": "#%%\n"
    }
   }
  },
  {
   "cell_type": "markdown",
   "source": [
    "### Put all parts together, provide example\n",
    "To perform a prediction, you use neural network-like notation; you have weights (w), inputs (x) and bias (b)\n"
   ],
   "metadata": {
    "collapsed": false
   }
  },
  {
   "cell_type": "code",
   "execution_count": 5,
   "outputs": [
    {
     "name": "stderr",
     "output_type": "stream",
     "text": [
      "<ipython-input-5-8e7be5f2f1bd>:19: RuntimeWarning: overflow encountered in exp\n",
      "  return 1.0 / (1 + np.exp(-x))\n"
     ]
    },
    {
     "name": "stdout",
     "output_type": "stream",
     "text": [
      "0.9298245614035088\n"
     ]
    },
    {
     "name": "stderr",
     "output_type": "stream",
     "text": [
      "/Library/Frameworks/Python.framework/Versions/3.8/lib/python3.8/site-packages/pandas/core/arraylike.py:397: RuntimeWarning: overflow encountered in exp\n",
      "  result = getattr(ufunc, method)(*inputs, **kwargs)\n"
     ]
    }
   ],
   "source": [
    "import pandas as pd\n",
    "from sklearn.model_selection import train_test_split\n",
    "from sklearn.metrics import accuracy_score\n",
    "import copy\n",
    "import numpy as np\n",
    "\n",
    "\n",
    "#lr = CustomLogisticRegression()\n",
    "#lr.fit(x_train, y_train, epochs=150)\n",
    "\n",
    "# 0. You start by doing the weight and sigmoid calculation.\n",
    "# 1. Multiply the inputs with the weights and add the bias.\n",
    "# 2. Input these weights into the sigmoid function and get predictions.\n",
    "# 3. Compute the loss by the implemented compute_loss function and the derivative by the compute_gradients function\n",
    "# 4. The loss is not used in the model (only the derivative of the loss is used). but you can monitor the loss to determine when your model cannot learn more, which is how the 150 epochs were chosen for the model.\n",
    "# 5.  Finally, you update the parameters of the model, and then you start the next iteration and continue iterating until you reach 150 iterations.\n",
    "\n",
    "def sigmoid(x):\n",
    "    return 1.0 / (1 + np.exp(-x))\n",
    "\n",
    "\n",
    "def compute_loss(y_true, y_pred):\n",
    "    \"\"\"\n",
    "     The loss function (also known as a cost function) is implemented as a vectorized solution exactly like you saw in the explanation section into the formula.\n",
    "     Finding all of the errors by comparing your ground truth y_true to your predictions y_pred\n",
    "    :param y_true:\n",
    "    :param y_pred:\n",
    "    :return:\n",
    "    \"\"\"\n",
    "    # binary cross entropy\n",
    "    y_zero_loss = y_true * np.log(y_pred + 1e-9)\n",
    "    y_one_loss = (1 - y_true) * np.log(1 - y_pred + 1e-9)\n",
    "    return -np.mean(y_zero_loss + y_one_loss)\n",
    "\n",
    "\n",
    "def compute_gradients(x, y_true, y_pred):\n",
    "    \"\"\"\n",
    "    You start by finding the difference (how much your model predicted wrong)\n",
    "    and use it to calculate the gradients for the bias by finding the average error.\n",
    "    calculate the gradients, which are what you use to update the model parameters.\n",
    "    :param x:\n",
    "    :param y_true:\n",
    "    :param y_pred:\n",
    "    :return:\n",
    "    \"\"\"\n",
    "\n",
    "    #  Start by finding the difference (how much your model predicted wrong)\n",
    "    difference = y_pred - y_true\n",
    "    #  calculate the gradients for the bias by finding the average error.\n",
    "    gradient_bias = np.mean(difference)\n",
    "    #  multiply the difference by the inputs (x).\n",
    "    #  https://numpy.org/doc/stable/reference/generated/numpy.transpose.html\n",
    "    gradients_w = np.matmul(x.transpose(), difference)\n",
    "    #  find the average of each gradient. Row of the matrix\n",
    "    gradients_w_mean = np.array([np.mean(grad) for grad in gradients_w])\n",
    "\n",
    "    return gradients_w_mean, gradient_bias\n",
    "\n",
    "\n",
    "def update_model_parameters(weights, bias, error_w, error_b):\n",
    "    weights = weights - 0.1 * error_w\n",
    "    bias = bias - 0.1 * error_b\n",
    "    return weights, bias\n",
    "\n",
    "\n",
    "def fit(x, y, epochs):\n",
    "    x = copy.deepcopy(x).values\n",
    "    y = copy.deepcopy(y).values\n",
    "\n",
    "    weights = np.zeros(x.shape[1])\n",
    "    bias = 0\n",
    "    losses = []\n",
    "    train_accuracies = []\n",
    "\n",
    "    for i in range(epochs):\n",
    "        #  Matrix product of two arrays.\n",
    "        x_dot_weights = np.matmul(weights, x.transpose()) + bias\n",
    "        pred = sigmoid(x_dot_weights)\n",
    "        loss = compute_loss(y, pred)\n",
    "        error_w, error_b = compute_gradients(x, y, pred)\n",
    "        weights, bias = update_model_parameters(weights, bias, error_w, error_b)\n",
    "\n",
    "        pred_to_class = [1 if p > 0.5 else 0 for p in pred]\n",
    "        train_accuracies.append(accuracy_score(y, pred_to_class))\n",
    "        losses.append(loss)\n",
    "\n",
    "    return weights, bias\n",
    "\n",
    "\n",
    "def predict(weights, bias, x):\n",
    "    x_dot_weights = np.matmul(x, weights.transpose()) + bias\n",
    "    probabilities = sigmoid(x_dot_weights)\n",
    "    return [1 if p > 0.5 else 0 for p in probabilities]\n",
    "\n",
    "\n",
    "if __name__ == '__main__':\n",
    "    x = pd.read_csv(\"../data/breast_cancer_x_data.csv\")\n",
    "    y = pd.read_csv(\"../data/breast_cancer_y_target_data.csv\")\n",
    "\n",
    "    x_train, x_test, y_train, y_test = train_test_split(x, y, test_size=0.2, random_state=42)\n",
    "    weights, bias = fit(x_train, y_train, 150)\n",
    "    pred = predict(weights, bias, x_test)\n",
    "    accuracy = accuracy_score(y_test, pred)\n",
    "    print(accuracy)"
   ],
   "metadata": {
    "collapsed": false,
    "pycharm": {
     "name": "#%%\n"
    }
   }
  },
  {
   "cell_type": "markdown",
   "source": [
    "### Multiclass Classification problem:\n",
    "Email -> Hobby, Friends, Work, Family\n",
    "Medical -> not ill, cold, flue\n",
    "\n",
    "Now we will approach the classification of data when we have more than two categories. Instead of y = {0,1} we will expand our definition so that y = {0,1...n}\n",
    "Applying binary logistic regression to each case '{0,1...n}', and then use the hypothesis that returned the highest value as our prediction.\n",
    "<br>\n",
    "<img src=\"../img/log_reg/multiclass_classification.png\" width=\"500\"/>"
   ],
   "metadata": {
    "collapsed": false,
    "pycharm": {
     "name": "#%% md\n"
    }
   }
  }
 ],
 "metadata": {
  "kernelspec": {
   "display_name": "Python 3",
   "language": "python",
   "name": "python3"
  },
  "language_info": {
   "codemirror_mode": {
    "name": "ipython",
    "version": 2
   },
   "file_extension": ".py",
   "mimetype": "text/x-python",
   "name": "python",
   "nbconvert_exporter": "python",
   "pygments_lexer": "ipython2",
   "version": "2.7.6"
  }
 },
 "nbformat": 4,
 "nbformat_minor": 0
}