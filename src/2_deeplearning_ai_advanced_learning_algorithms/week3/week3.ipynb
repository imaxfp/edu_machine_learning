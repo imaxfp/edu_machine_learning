{
 "cells": [
  {
   "cell_type": "markdown",
   "source": [
    "### Advice for applying machine learning\n",
    "\n",
    "Diagnostic. By diagnostic, I mean a test that you can run to gain insight into what is or isn't working with learning algorithm to gain guidance into improving its performance."
   ],
   "metadata": {
    "collapsed": false
   }
  },
  {
   "cell_type": "markdown",
   "source": [
    "### Evaluating a model\n",
    "\n",
    "<img src=\"../../../img/2_advanced_learning_algorithms/week3/evaluating_model.png\" width=\"600\"/>\n",
    "\n",
    "So let's take a look at how to evaluate the model. Let's take the example of learning to predict housing prices as a function of the size.\n",
    "\n",
    "This fits the training data really well. But, we don't like this model very much because even though the model fits the training data well, we think it will fail to generalize to new examples that aren't in the training set.\n",
    "\n"
   ],
   "metadata": {
    "collapsed": false,
    "pycharm": {
     "name": "#%% md\n"
    }
   }
  },
  {
   "cell_type": "markdown",
   "source": [
    "<img src=\"../../../img/2_advanced_learning_algorithms/week3/train_test.png\" width=\"600\"/>\n",
    "\n",
    "So in order to tell if your model is doing well, especially for applications where you have more than one or two features, which makes it difficult to plot f of x. We need some more systematic way to evaluate how well your model is doing."
   ],
   "metadata": {
    "collapsed": false
   }
  },
  {
   "cell_type": "markdown",
   "source": [
    "<img src=\"../../../img/2_advanced_learning_algorithms/week3/train_test_cost.png\" width=\"600\"/>"
   ],
   "metadata": {
    "collapsed": false
   }
  },
  {
   "cell_type": "markdown",
   "source": [
    "<img src=\"../../../img/2_advanced_learning_algorithms/week3/train_test_error_cost.png\" width=\"600\"/>\n",
    "\n",
    "So, in the model like what we saw earlier J train of w,b will be low because the average era on your training examples will be zero or very close to zero. So J **train** will be very close to zero. But if you have a few additional examples in your **test** set that the album had not trained on, then those test examples, my love life these. And there's a large gap between what the album is predicting as the estimated housing price"
   ],
   "metadata": {
    "collapsed": false,
    "pycharm": {
     "name": "#%% md\n"
    }
   }
  },
  {
   "cell_type": "markdown",
   "source": [
    "### Model selection and training/cross validation/test sets\n",
    "\n",
    "<img src=\"../../../img/2_advanced_learning_algorithms/week3/train_test_error_cost.png\" width=\"600\"/>\n",
    "\n",
    "The name cross-validation refers to that this is an extra dataset that we're going to use to check or trust check the validity or really the accuracy of different models. I don t think it's a great name, but that is what people in machine learning have gotten to call this extra dataset. You may also hear people call this the validation set for short, it's just fewer syllables than cross-validation or in some applications, people also call this the development set."
   ],
   "metadata": {
    "collapsed": false
   }
  },
  {
   "cell_type": "markdown",
   "source": [
    "<img src=\"../../../img/2_advanced_learning_algorithms/week3/cross_val.png\" width=\"600\"/>\n",
    "<br>\n",
    "<img src=\"../../../img/2_advanced_learning_algorithms/week3/cross_val_formula.png\" width=\"600\"/>"
   ],
   "metadata": {
    "collapsed": false
   }
  },
  {
   "cell_type": "markdown",
   "source": [
    "<img src=\"../../../img/2_advanced_learning_algorithms/week3/model_selection.png\" width=\"600\"/>\n",
    "\n",
    "??? why VAL set ???\n",
    "you've not fit any parameters, either w or b or d to the test set and that's why Jtest in this example will be **fair estimate** of the generalization error of this model thus parameters w4,b4."
   ],
   "metadata": {
    "collapsed": false
   }
  },
  {
   "cell_type": "markdown",
   "source": [
    "<img src=\"../../../img/2_advanced_learning_algorithms/week3/model_selection_NN.png\" width=\"600\"/>\n",
    "\n",
    "If in this example, **second** has the lowest cross validation error, you will then pick the second neural network and use parameters trained on this model and finally, if you want to report out an estimate of the **generalization error**, you then use the **test set** to estimate how well the neural network that you just chose will do.\n",
    "\n",
    " It's considered best practice in machine learning that if you have to make decisions about your model, such as fitting parameters or choosing the model architecture, such as neural network architecture or degree of polynomial if you're fitting a linear regression, to make all those decisions only using your **training set** and your **cross-validation** set, and to **not look at the test set at all while you're still making decisions regarding your learning algorithm.**"
   ],
   "metadata": {
    "collapsed": false
   }
  },
  {
   "cell_type": "markdown",
   "source": [
    "<img src=\"../../../img/2_advanced_learning_algorithms/week3/model_selection_nn2.png\" width=\"600\"/>\n",
    "\n",
    "It's only **after you've come up with one model as your final model** to only then evaluate it on the test set and because you haven't made any decisions using the test set, that **ensures that your test set is a fair** and not **overly optimistic** estimate of how well your model will generalize to new data. That's model selection and this is actually a very widely used procedure. I use this all the time to automatically choose what model to use for a given machine learning application."
   ],
   "metadata": {
    "collapsed": false
   }
  },
  {
   "cell_type": "markdown",
   "source": [],
   "metadata": {
    "collapsed": false
   }
  }
 ],
 "metadata": {
  "kernelspec": {
   "display_name": "Python 3",
   "language": "python",
   "name": "python3"
  },
  "language_info": {
   "codemirror_mode": {
    "name": "ipython",
    "version": 2
   },
   "file_extension": ".py",
   "mimetype": "text/x-python",
   "name": "python",
   "nbconvert_exporter": "python",
   "pygments_lexer": "ipython2",
   "version": "2.7.6"
  }
 },
 "nbformat": 4,
 "nbformat_minor": 0
}