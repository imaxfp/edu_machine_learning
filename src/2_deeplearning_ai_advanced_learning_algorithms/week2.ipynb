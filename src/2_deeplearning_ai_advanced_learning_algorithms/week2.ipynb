{
 "cells": [
  {
   "cell_type": "markdown",
   "source": [
    "## Week 2\n",
    "\n",
    "<img src=\"../../img/2_advanced_learning_algorithms/nn/neurons_example.png\" width=\"500\"/>"
   ],
   "metadata": {
    "collapsed": false,
    "pycharm": {
     "name": "#%% md\n"
    }
   }
  }
 ],
 "metadata": {
  "kernelspec": {
   "display_name": "Python 3",
   "language": "python",
   "name": "python3"
  },
  "language_info": {
   "codemirror_mode": {
    "name": "ipython",
    "version": 2
   },
   "file_extension": ".py",
   "mimetype": "text/x-python",
   "name": "python",
   "nbconvert_exporter": "python",
   "pygments_lexer": "ipython2",
   "version": "2.7.6"
  }
 },
 "nbformat": 4,
 "nbformat_minor": 0
}