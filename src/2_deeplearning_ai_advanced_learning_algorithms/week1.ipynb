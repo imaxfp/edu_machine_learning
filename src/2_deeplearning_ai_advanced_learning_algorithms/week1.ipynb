{
 "cells": [
  {
   "cell_type": "markdown",
   "source": [
    "### Week 1\n",
    "\n",
    "Arthur Samuel. He defined machine learning as the field of study that gives computers\n",
    "the ability to learn without being explicitly programmed.\n",
    "\n",
    "##### Question 1\n",
    "If Arthur Samuel's checkers-playing program had been allowed to play only 10 games\n",
    "(instead of tens of thousands games) against itself, how would this have affected its performance?\n",
    "\n",
    "- Would have made it worse\n"
   ],
   "metadata": {
    "collapsed": false,
    "pycharm": {
     "name": "#%% md\n"
    }
   }
  }
 ],
 "metadata": {
  "kernelspec": {
   "display_name": "Python 3",
   "language": "python",
   "name": "python3"
  },
  "language_info": {
   "codemirror_mode": {
    "name": "ipython",
    "version": 2
   },
   "file_extension": ".py",
   "mimetype": "text/x-python",
   "name": "python",
   "nbconvert_exporter": "python",
   "pygments_lexer": "ipython2",
   "version": "2.7.6"
  }
 },
 "nbformat": 4,
 "nbformat_minor": 0
}