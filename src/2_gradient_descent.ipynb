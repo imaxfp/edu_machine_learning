{
 "cells": [
  {
   "cell_type": "markdown",
   "metadata": {
    "pycharm": {
     "name": "#%% md\n"
    }
   },
   "source": [
    "From now on, we will study how to find the optimal parameter of the hypothesis function.\n",
    "Gradient descent is one of the methods that can be used to minimize the cost function, and is a general method used for various optimizations other than the cost function.\n",
    "Gradient descent basically takes the following strategy."
   ],
   "outputs": []
  },
  {
   "cell_type": "markdown",
   "source": [
    "<img src=\"../img/gradient_descent/gradient_descent outline.png\"/>"
   ],
   "metadata": {
    "collapsed": false
   }
  },
  {
   "cell_type": "markdown",
   "source": [],
   "metadata": {
    "collapsed": false
   }
  }
 ],
 "metadata": {
  "kernelspec": {
   "display_name": "Python 3",
   "language": "python",
   "name": "python3"
  },
  "language_info": {
   "codemirror_mode": {
    "name": "ipython",
    "version": 3
   },
   "file_extension": ".py",
   "mimetype": "text/x-python",
   "name": "python",
   "nbconvert_exporter": "python",
   "pygments_lexer": "ipython3",
   "version": "3.8.5"
  }
 },
 "nbformat": 4,
 "nbformat_minor": 1
}