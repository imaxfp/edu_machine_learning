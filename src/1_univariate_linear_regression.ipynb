{
 "cells": [
  {
   "cell_type": "markdown",
   "metadata": {
    "pycharm": {
     "name": "#%% md\n"
    }
   },
   "source": [
    "Assuming that there is a linear relationship between the size of the house and the price, it is a linear regression."
   ]
  },
  {
   "cell_type": "code",
   "execution_count": 382,
   "metadata": {
    "pycharm": {
     "name": "#%%\n"
    }
   },
   "outputs": [
    {
     "name": "stderr",
     "output_type": "stream",
     "text": [
      "2021-12-17 21:59:24.901 | INFO     | __main__:<module>:7 -    size  price\n",
      "0     1      1\n",
      "1     2      2\n",
      "2     3      3\n"
     ]
    }
   ],
   "source": [
    "import pandas as pd\n",
    "from loguru import logger\n",
    "\n",
    "data = {'size': [1, 2, 3],\n",
    "        'price': [1, 2, 3]}\n",
    "df = pd.DataFrame(data)\n",
    "logger.info(df)"
   ]
  },
  {
   "cell_type": "code",
   "metadata": {
    "pycharm": {
     "name": "#%%\n"
    }
   },
   "source": [
    "\n",
    "import seaborn as sns\n",
    "\n",
    "sns.set_theme(color_codes=True)\n",
    "sns.regplot(x=\"size\", y=\"price\", data=df);"
   ],
   "execution_count": 383,
   "outputs": [
    {
     "data": {
      "text/plain": "<Figure size 432x288 with 1 Axes>",
      "image/png": "[encoded data removed]"
     },
     "metadata": {},
     "output_type": "display_data"
    }
   ]
  },
  {
   "cell_type": "markdown",
   "source": [
    "<img src=\"../img/univariate/univariate_main_algorithm.png\" width=\"750\"/>"
   ],
   "metadata": {
    "collapsed": false,
    "pycharm": {
     "name": "#%% md\n"
    }
   }
  },
  {
   "cell_type": "markdown",
   "source": [
    "### The Hypothesis Function\n",
    "Hypothesis is a function representing the relationship between input (feature) and output (target).\n",
    "“How to express the relationship between variables and outputs with these and these functions? It is believed that they began to call it a hypothesis because it puts up a kind of hypothesis. Hypothesis can take the form of any function, but the following linear functions are often used.\n"
   ],
   "metadata": {
    "collapsed": false,
    "pycharm": {
     "name": "#%% md\n"
    }
   }
  },
  {
   "cell_type": "markdown",
   "source": [
    "<img src=\"../img/univariate/univariate_main_formulas.png\" width=\"750\"/>"
   ],
   "metadata": {
    "collapsed": false
   }
  },
  {
   "cell_type": "markdown",
   "source": [
    "<img src=\"../img/univariate/univariate_lr_hypotesis_visual.png\" width=\"550\"/>"
   ],
   "metadata": {
    "collapsed": false
   }
  },
  {
   "cell_type": "markdown",
   "source": [
    "### Cost function details explained"
   ],
   "metadata": {
    "collapsed": false
   }
  },
  {
   "cell_type": "markdown",
   "source": [
    "<img src=\"../img/univariate/univariate_lr_cost_function.png\" width=\"750\"/>\n",
    "\n",
    "\n",
    "\n"
   ],
   "metadata": {
    "collapsed": false
   }
  },
  {
   "cell_type": "code",
   "execution_count": 384,
   "outputs": [
    {
     "name": "stderr",
     "output_type": "stream",
     "text": [
      "2021-12-17 21:59:27.651 | INFO     | __main__:cost_function:15 - For theta1 = 1.00, cost function is = 0.00, hypothesis = [0, 0, 0]\n",
      "2021-12-17 21:59:27.653 | INFO     | __main__:cost_function:15 - For theta1 = 0.50, cost function is = 0.58, hypothesis = [0.25, 1.0, 2.25]\n",
      "2021-12-17 21:59:27.654 | INFO     | __main__:cost_function:15 - For theta1 = 0.00, cost function is = 2.33, hypothesis = [1, 4, 9]\n"
     ]
    }
   ],
   "source": [
    "data = {'size': [1, 2, 3],\n",
    "        'price': [1, 2, 3]}\n",
    "df = pd.DataFrame(data)\n",
    "\n",
    "\n",
    "#hypothesis implementation\n",
    "def hypothesis(theta0, theta1, x):\n",
    "    return theta0 + theta1 * x\n",
    "\n",
    "\n",
    "#Cost function formula implementation\n",
    "def cost_function(theta0, theta1, df):\n",
    "    hypo_results = list(map(lambda x, y: (hypothesis(theta0, theta1, x) - y) ** 2, df[\"size\"], df[\"price\"]))\n",
    "    cost_function_res = 1 / (2 * len(df[\"price\"])) * sum(hypo_results)\n",
    "    logger.info(\n",
    "        \"For theta1 = %.2f, cost function is = %.2f, hypothesis = %s\" % (theta1, cost_function_res, hypo_results))\n",
    "    return cost_function_res\n",
    "\n",
    "\n",
    "thetas1 = [1, 0.5, 0]\n",
    "\n",
    "for t1 in thetas1:\n",
    "    cost_function(0, t1, df)\n"
   ],
   "metadata": {
    "collapsed": false,
    "pycharm": {
     "name": "#%%\n"
    }
   }
  },
  {
   "cell_type": "markdown",
   "source": [],
   "metadata": {
    "collapsed": false,
    "pycharm": {
     "name": "#%% md\n"
    }
   }
  },
  {
   "cell_type": "markdown",
   "source": [
    "## Before we move forward, let's refresh basic linear algebra concepts and operations:\n",
    "\n",
    "<img src=\"../img/linear_algebra/scalar_vector_matrix.png\" width=\"750\"/>"
   ],
   "metadata": {
    "collapsed": false,
    "pycharm": {
     "name": "#%% md\n"
    }
   }
  },
  {
   "cell_type": "markdown",
   "source": [
    "### Scalar\n",
    "Scalars are mathematical entities which have **only a magnitude** (and **no direction**). Physical examples include mass and energy."
   ],
   "metadata": {
    "collapsed": false
   }
  },
  {
   "cell_type": "markdown",
   "source": [
    "### Vector\n",
    "**Definition**: A vector is a list of numbers. There are (at least) two ways to interpret what this list of numbers mean:\n",
    "\n",
    "**One way:**\n",
    "Think of the vector as being a point in a space. Then this list of numbers is a way of identifying that point in space, where each number represents the vector’s component that dimension.\n",
    "\n",
    "**Another way:**\n",
    "Think of a vector is a **magnitude** and a **direction**, e.g. a quantity like velocity (“the fighter jet’s velocity is 250 mph north-by-northwest”). In this way of think of it, a vector is a **directed arrow pointing** from the origin to the end point given by the list of numbers.\n",
    "\n",
    "**Example:**\n",
    "$a^{->} = [4, 3]$. Graphically, you can think of this vector as an arrow in the x-y (two dimensional space) plane, pointing from the origin to the point at x=3, y=4\n",
    "\n",
    "<img src=\"../img/linear_algebra/vector_visual_representation.png\" width=\"350\"/>\n",
    "\n",
    "**Vector and scalar operations:**\n",
    "\n",
    "All binary operations between a vector and a scalar are accomplished by operating on each entry in the vector individually. The following shows vector-scalar addition as well as vector-scalar multiplication:\n",
    "\n",
    "Addition:\n",
    "$ \\begin{align}\n",
    "    -3 +\n",
    "        \\begin{bmatrix}\n",
    "           {1} \\\\\n",
    "           {5} \\\\\n",
    "           {0}\n",
    "         \\end{bmatrix}\n",
    "         =\n",
    "         \\begin{bmatrix}\n",
    "           {-2} \\\\\n",
    "           {-2} \\\\\n",
    "           {-3}\n",
    "         \\end{bmatrix}\n",
    "  \\end{align}$\n",
    "\n",
    "Multiplication:\n",
    "$ \\begin{align}\n",
    "    -3 \\cdot\n",
    "        \\begin{bmatrix}\n",
    "           {1} \\\\\n",
    "           {5} \\\\\n",
    "           {0}\n",
    "         \\end{bmatrix}\n",
    "         =\n",
    "         \\begin{bmatrix}\n",
    "           {-3} \\\\\n",
    "           {-15} \\\\\n",
    "           {0}\n",
    "         \\end{bmatrix}\n",
    "  \\end{align}$\n"
   ],
   "metadata": {
    "collapsed": false
   }
  },
  {
   "cell_type": "markdown",
   "source": [
    "### Scalar multiplication\n",
    "The term scalar multiplication refers to the product of a real number and a matrix. In scalar multiplication, each entry in the matrix is multiplied by the given scalar.\n",
    "<img src=\"../img/linear_algebra/matrices_and_scalar multiplication.png\" width=\"450\"/>"
   ],
   "metadata": {
    "collapsed": false
   }
  },
  {
   "cell_type": "code",
   "execution_count": 385,
   "outputs": [
    {
     "name": "stdout",
     "output_type": "stream",
     "text": [
      "[2, 10, 0]\n"
     ]
    }
   ],
   "source": [
    "# Scalar to vector multiplication\n",
    "scalar = 2\n",
    "vector = [1, 5, 0]\n",
    "print(list(map(lambda s: s * scalar, vector)))"
   ],
   "metadata": {
    "collapsed": false,
    "pycharm": {
     "name": "#%%\n"
    }
   }
  },
  {
   "cell_type": "code",
   "execution_count": 386,
   "outputs": [
    {
     "name": "stdout",
     "output_type": "stream",
     "text": [
      "[[10  4]\n",
      " [ 6  2]]\n"
     ]
    }
   ],
   "source": [
    "# Scalar to matrix multiplication\n",
    "import numpy as np\n",
    "\n",
    "scalar = 2\n",
    "m = [[5, 2],\n",
    "     [3, 1]]\n",
    "\n",
    "matrix_res = np.zeros((len(m), len(m)), dtype=int)\n",
    "\n",
    "for i in range(len(m)):\n",
    "    for j in range(len(m)):\n",
    "        matrix_res[i][j] = scalar * m[i][j]\n",
    "\n",
    "print(matrix_res)"
   ],
   "metadata": {
    "collapsed": false,
    "pycharm": {
     "name": "#%%\n"
    }
   }
  },
  {
   "cell_type": "markdown",
   "source": [
    "### Matrices addition\n",
    "A matrix, like a vector, is also a collection of numbers. The difference is that a matrix is a table of numbers rather than a list. (In fact, you can think of vectors as matrices that happen to only have one column or one row.)\n",
    "\n",
    "**Matrix addition and subtraction:**\n",
    "<img src=\"../img/linear_algebra/matrices_addition_substraction.png\" width=\"450\"/>\n",
    "\n",
    "[Check your understanding](https://www.khanacademy.org/math/precalculus/x9e81a4f98389efdf:matrices/x9e81a4f98389efdf:adding-and-subtracting-matrices/a/adding-and-subtracting-matrices)\n"
   ],
   "metadata": {
    "collapsed": false
   }
  },
  {
   "cell_type": "code",
   "execution_count": 387,
   "outputs": [
    {
     "name": "stdout",
     "output_type": "stream",
     "text": [
      " 4 + 1 = 5\n",
      " 8 + 0 = 8\n",
      " 3 + 5 = 8\n",
      " 7 + 2 = 9\n",
      "[[5 8]\n",
      " [8 9]]\n"
     ]
    }
   ],
   "source": [
    "# Addition matrices\n",
    "def matrices_addition(m1, m2):\n",
    "    matrix_res = np.zeros((len(m1), len(m2)), dtype=int)\n",
    "    for row in range(len(m2)):\n",
    "        for col in range(len(m2)):\n",
    "            matrix_res[row][col] = m1[row][col] + m2[row][col]\n",
    "            print(\" %i + %i = %i\" % (m1[row][col], m2[row][col], m1[row][col] + m2[row][col]))\n",
    "    return matrix_res\n",
    "\n",
    "\n",
    "a = [[4, 8],\n",
    "     [3, 7]]\n",
    "\n",
    "b = [[1, 0],\n",
    "     [5, 2]]\n",
    "\n",
    "print(matrices_addition(a, b))"
   ],
   "metadata": {
    "collapsed": false,
    "pycharm": {
     "name": "#%%\n"
    }
   }
  },
  {
   "cell_type": "markdown",
   "source": [
    "### Matrix and vector multiplication\n",
    "\n",
    "A Matrix and a vector can be multiplied only if the number of columns of the matrix and the the dimension of the vector have **the same size.**\n",
    "\n",
    "<img src=\"../img/linear_algebra/matrix_vector_product.png\" width=\"750\"/>\n"
   ],
   "metadata": {
    "collapsed": false
   }
  },
  {
   "cell_type": "code",
   "execution_count": 388,
   "outputs": [
    {
     "name": "stdout",
     "output_type": "stream",
     "text": [
      "[[ 5]\n",
      " [11]\n",
      " [17]]\n"
     ]
    }
   ],
   "source": [
    "# Matrix to vector multiplication\n",
    "def matrix_vector_multiplication(m, vector):\n",
    "    vector_res = np.zeros((len(m), 1), dtype=int)\n",
    "    for i in range(3):\n",
    "        for j in range(2):\n",
    "            vector_res[i][0] += m[i][j] * vector[j][0]\n",
    "    return vector_res\n",
    "\n",
    "\n",
    "m = [[1, 2],\n",
    "     [3, 4],\n",
    "     [5, 6]]\n",
    "\n",
    "vector = [[1],\n",
    "          [2]]\n",
    "\n",
    "print(matrix_vector_multiplication(m, vector))"
   ],
   "metadata": {
    "collapsed": false,
    "pycharm": {
     "name": "#%%\n"
    }
   }
  },
  {
   "cell_type": "markdown",
   "source": [
    "### Matrices multiplication\n",
    "refers to the product of two matrices. The resulting matrix, known as the matrix product, has the number of rows of the first and the number of columns of the second matrix. The product of matrices A and B is denoted as AB.\n",
    "\n",
    "<img src=\"../img/linear_algebra/matrices_multiplication.png\" width=\"450\"/>\n",
    "\n",
    "\n",
    "[Check your understanding with matrices](https://www.khanacademy.org/math/precalculus/x9e81a4f98389efdf:matrices/x9e81a4f98389efdf:multiplying-matrices-by-matrices/a/multiplying-matrices)"
   ],
   "metadata": {
    "collapsed": false
   }
  },
  {
   "cell_type": "code",
   "execution_count": 389,
   "outputs": [
    {
     "name": "stdout",
     "output_type": "stream",
     "text": [
      " 1 * 5 = 5\n",
      " 2 * 7 = 14\n",
      " 1 * 6 = 6\n",
      " 2 * 8 = 16\n",
      " 3 * 5 = 15\n",
      " 4 * 7 = 28\n",
      " 3 * 6 = 18\n",
      " 4 * 8 = 32\n",
      "[[19 22]\n",
      " [43 50]]\n"
     ]
    }
   ],
   "source": [
    "# Multiply each element of row matrix 1 to the each element of the column matrix 2.\n",
    "# check yourself https://keisan.casio.com\n",
    "def matrices_multiplication(m1, m2):\n",
    "    matrix_res = np.zeros((len(m1), len(m2)), dtype=int)\n",
    "\n",
    "    for i in range(len(m1)):\n",
    "        for col in range(len(m2)):\n",
    "            for row in range(len(m2)):\n",
    "                matrix_res[i][col] += m1[i][row] * m2[row][col]\n",
    "                print(\" %i * %i = %i\" % (m1[i][row], m2[row][col], m1[i][row] * m2[row][col]))\n",
    "    return matrix_res\n",
    "\n",
    "\n",
    "a = [[1, 2],\n",
    "     [3, 4]]\n",
    "\n",
    "b = [[5, 6],\n",
    "     [7, 8]]\n",
    "\n",
    "print(matrices_multiplication(a, b))"
   ],
   "metadata": {
    "collapsed": false,
    "pycharm": {
     "name": "#%%\n"
    }
   }
  },
  {
   "cell_type": "markdown",
   "source": [
    "## How to use matrices multiplication for the **linear regression** implementation"
   ],
   "metadata": {
    "collapsed": false
   }
  },
  {
   "cell_type": "code",
   "execution_count": 390,
   "outputs": [
    {
     "name": "stdout",
     "output_type": "stream",
     "text": [
      "house size matrix representation\n",
      " [[ 1 47]\n",
      " [ 1 53]\n",
      " [ 1 67]\n",
      " [ 1 90]]\n",
      "theta0 and theta1 vector\n",
      " [[2.   ]\n",
      " [1.411]]\n",
      "1 * 2.0\n",
      "47 * 1.411\n",
      "1 * 2.0\n",
      "53 * 1.411\n",
      "1 * 2.0\n",
      "67 * 1.411\n",
      "1 * 2.0\n",
      "90 * 1.411\n",
      "prices predicted with vector  = [ 68.317  76.783  96.537 128.99 ]\n",
      "real prices = [84, 87, 97, 115]\n",
      "cost function results based on  matrix implementation = 68.284755875\n"
     ]
    }
   ],
   "source": [
    "import pandas as pd\n",
    "import numpy as np\n",
    "\n",
    "'''\n",
    "https://numpy.org/doc/1.21/\n",
    "https://numpy.org/doc/stable/reference/generated/numpy.matrix.html\n",
    "'''\n",
    "#appartment square meters and price\n",
    "df = pd.DataFrame({'size': [47, 53, 67, 90],\n",
    "                   'price': [84, 87, 97, 115]})\n",
    "#prepare matrix with apartment size\n",
    "house_size_matrix = np.array(list(map(lambda s: [1, s], df['size'])))\n",
    "print(\"house size matrix representation\\n\", house_size_matrix)\n",
    "\n",
    "#prepare theta0 and theta1 vectors\n",
    "thetas_vector1 = np.array([[2],\n",
    "                           [1.411]])\n",
    "print(\"theta0 and theta1 vector\\n\", thetas_vector1)\n",
    "\n",
    "#provide prediction results for the prices with hypothesis function by matrix and vector multiplication\n",
    "predictions_by_hypothesis = np.zeros(len(df['size']))\n",
    "for i in range(len(df['size'])):\n",
    "    for j in range(2):\n",
    "        print(house_size_matrix[i][j], \"*\", thetas_vector1[j][0])\n",
    "        predictions_by_hypothesis[i] += thetas_vector1[j][0] * house_size_matrix[i][j]\n",
    "\n",
    "print(\"prices predicted with vector  =\", predictions_by_hypothesis)\n",
    "print(\"real prices =\", list(df[\"price\"]))\n",
    "\n",
    "# Calculate cost function for predictions by hypothesis\n",
    "hypo_results = list(map(lambda x, y: (x - y) ** 2, predictions_by_hypothesis, df[\"price\"]))\n",
    "cost_function_res = 1 / (2 * len(df[\"price\"])) * sum(hypo_results)\n",
    "print(\"cost function results based on  matrix implementation =\", cost_function_res)"
   ],
   "metadata": {
    "collapsed": false,
    "pycharm": {
     "name": "#%%\n"
    }
   }
  },
  {
   "cell_type": "code",
   "execution_count": 391,
   "outputs": [
    {
     "name": "stderr",
     "output_type": "stream",
     "text": [
      "2021-12-17 21:59:38.378 | INFO     | __main__:cost_function:15 - For theta1 = 1.41, cost function is = 68.28, hypothesis = [array([245.956489]), array([104.387089]), array([0.214369]), array([195.7201])]\n"
     ]
    },
    {
     "name": "stdout",
     "output_type": "stream",
     "text": [
      "cost function results based on function implementation = [68.28475588]\n"
     ]
    }
   ],
   "source": [
    "# Compare results with previous cost function implementation\n",
    "cost_function_res_above = cost_function(thetas_vector1[0], thetas_vector1[1], df)\n",
    "print(\"cost function results based on function implementation =\", cost_function_res_above)"
   ],
   "metadata": {
    "collapsed": false,
    "pycharm": {
     "name": "#%%\n"
    }
   }
  },
  {
   "cell_type": "code",
   "execution_count": 392,
   "outputs": [
    {
     "data": {
      "text/plain": "<AxesSubplot:xlabel='size', ylabel='price'>"
     },
     "execution_count": 392,
     "metadata": {},
     "output_type": "execute_result"
    },
    {
     "data": {
      "text/plain": "<Figure size 432x288 with 1 Axes>",
      "image/png": "[encoded data removed]"
     },
     "metadata": {},
     "output_type": "display_data"
    }
   ],
   "source": [
    "import seaborn as sns\n",
    "\n",
    "df_predicted = pd.DataFrame({'size': df['size'],\n",
    "                             'price': predictions_by_hypothesis})\n",
    "\n",
    "sns.regplot(x=\"size\", y=\"price\", color=\"blue\", data=df)\n",
    "sns.regplot(x=\"size\", y=\"price\", color=\"red\", data=df_predicted)"
   ],
   "metadata": {
    "collapsed": false,
    "pycharm": {
     "name": "#%%\n"
    }
   }
  },
  {
   "cell_type": "markdown",
   "source": [],
   "metadata": {
    "collapsed": false,
    "pycharm": {
     "name": "#%% md\n"
    }
   }
  },
  {
   "cell_type": "code",
   "execution_count": null,
   "outputs": [],
   "source": [],
   "metadata": {
    "collapsed": false,
    "pycharm": {
     "name": "#%%\n"
    }
   }
  }
 ],
 "metadata": {
  "kernelspec": {
   "display_name": "Python 3",
   "language": "python",
   "name": "python3"
  },
  "language_info": {
   "codemirror_mode": {
    "name": "ipython",
    "version": 3
   },
   "file_extension": ".py",
   "mimetype": "text/x-python",
   "name": "python",
   "nbconvert_exporter": "python",
   "pygments_lexer": "ipython3",
   "version": "3.8.5"
  }
 },
 "nbformat": 4,
 "nbformat_minor": 1
}