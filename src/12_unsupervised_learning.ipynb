{
 "cells": [
  {
   "cell_type": "markdown",
   "source": [
    "## Unsupervised learning\n",
    "\n",
    "#### Clustering\n",
    "Clustering groups of elements by specific pattern or elements parameters\n",
    "- Market segmentation\n",
    "- Social groups analysis (groups of people, groups of friends, social networks)\n",
    "- Astronomical data analysis"
   ],
   "metadata": {
    "collapsed": false,
    "pycharm": {
     "name": "#%% md\n"
    }
   }
  },
  {
   "cell_type": "markdown",
   "source": [
    "#### K-Means Algorithm\n",
    "\n",
    "K-means clustering algorithm tries to group similar items in the form of clusters.\n",
    "\n",
    "Algorithm:\n",
    "- Randomly initialise points \"cluster centroids\"\n",
    "- K Means is an iterative algorithm and it does two things. First is a cluster assignment step, and second is a move centroid step.\n",
    "- Dots near specific centroids will be classified as a separated clusters \"dots neat 'blue' centroid or 'red' centroid\"\n",
    "- Move centroids and recompute arrange of nearest dots of the centroids\n",
    "\n",
    "TODO read in the WEB\n",
    "\n",
    "\n",
    "####\n",
    "\n",
    "\n"
   ],
   "metadata": {
    "collapsed": false
   }
  }
 ],
 "metadata": {
  "kernelspec": {
   "display_name": "Python 3",
   "language": "python",
   "name": "python3"
  },
  "language_info": {
   "codemirror_mode": {
    "name": "ipython",
    "version": 2
   },
   "file_extension": ".py",
   "mimetype": "text/x-python",
   "name": "python",
   "nbconvert_exporter": "python",
   "pygments_lexer": "ipython2",
   "version": "2.7.6"
  }
 },
 "nbformat": 4,
 "nbformat_minor": 0
}